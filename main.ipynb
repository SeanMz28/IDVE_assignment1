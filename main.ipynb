{
 "cells": [
  {
   "cell_type": "code",
   "execution_count": 59,
   "id": "da84abb4-b7b6-48c7-9e77-0e977bb280e3",
   "metadata": {},
   "outputs": [],
   "source": [
    "import numpy as np\n",
    "import pandas as pd\n",
    "import matplotlib.pyplot as plt"
   ]
  },
  {
   "cell_type": "code",
   "execution_count": 60,
   "id": "4faee795-7e05-4ea3-8046-3d3caab06056",
   "metadata": {},
   "outputs": [
    {
     "name": "stderr",
     "output_type": "stream",
     "text": [
      "/tmp/ipykernel_1947409/2813455951.py:1: DtypeWarning: Columns (3,6) have mixed types. Specify dtype option on import or set low_memory=False.\n",
      "  df = pd.read_csv(\"./logbook_assignment1.csv\")\n"
     ]
    }
   ],
   "source": [
    "df = pd.read_csv(\"./logbook_assignment1.csv\")"
   ]
  },
  {
   "cell_type": "code",
   "execution_count": 61,
   "id": "7b247582-9fe9-46e5-b6b8-6054c4d35fff",
   "metadata": {},
   "outputs": [
    {
     "name": "stderr",
     "output_type": "stream",
     "text": [
      "/tmp/ipykernel_1947409/3711806637.py:2: UserWarning: Could not infer format, so each element will be parsed individually, falling back to `dateutil`. To ensure parsing is consistent and as-expected, please specify a format.\n",
      "  df[\"date_fueled\"] = pd.to_datetime(df[\"date_fueled\"], errors='coerce')\n",
      "/tmp/ipykernel_1947409/3711806637.py:2: FutureWarning: Parsed string \"11:45H\n",
      "185.7\" included an un-recognized timezone \"H\". Dropping unrecognized timezones is deprecated; in a future version this will raise. Instead pass the string without the timezone, then use .tz_localize to convert to a recognized timezone.\n",
      "  df[\"date_fueled\"] = pd.to_datetime(df[\"date_fueled\"], errors='coerce')\n",
      "/tmp/ipykernel_1947409/3711806637.py:2: FutureWarning: Parsed string \"11:43H\n",
      "278.1\" included an un-recognized timezone \"H\". Dropping unrecognized timezones is deprecated; in a future version this will raise. Instead pass the string without the timezone, then use .tz_localize to convert to a recognized timezone.\n",
      "  df[\"date_fueled\"] = pd.to_datetime(df[\"date_fueled\"], errors='coerce')\n",
      "/tmp/ipykernel_1947409/3711806637.py:2: FutureWarning: Parsed string \"14:51H\n",
      "256.1\" included an un-recognized timezone \"H\". Dropping unrecognized timezones is deprecated; in a future version this will raise. Instead pass the string without the timezone, then use .tz_localize to convert to a recognized timezone.\n",
      "  df[\"date_fueled\"] = pd.to_datetime(df[\"date_fueled\"], errors='coerce')\n",
      "/tmp/ipykernel_1947409/3711806637.py:2: FutureWarning: Parsed string \"11:34H\n",
      "250.6\" included an un-recognized timezone \"H\". Dropping unrecognized timezones is deprecated; in a future version this will raise. Instead pass the string without the timezone, then use .tz_localize to convert to a recognized timezone.\n",
      "  df[\"date_fueled\"] = pd.to_datetime(df[\"date_fueled\"], errors='coerce')\n",
      "/tmp/ipykernel_1947409/3711806637.py:2: FutureWarning: Parsed string \"10:50H\n",
      "298.9\" included an un-recognized timezone \"H\". Dropping unrecognized timezones is deprecated; in a future version this will raise. Instead pass the string without the timezone, then use .tz_localize to convert to a recognized timezone.\n",
      "  df[\"date_fueled\"] = pd.to_datetime(df[\"date_fueled\"], errors='coerce')\n",
      "/tmp/ipykernel_1947409/3711806637.py:2: FutureWarning: Parsed string \"11:33H\n",
      "258.4\" included an un-recognized timezone \"H\". Dropping unrecognized timezones is deprecated; in a future version this will raise. Instead pass the string without the timezone, then use .tz_localize to convert to a recognized timezone.\n",
      "  df[\"date_fueled\"] = pd.to_datetime(df[\"date_fueled\"], errors='coerce')\n",
      "/tmp/ipykernel_1947409/3711806637.py:2: FutureWarning: Parsed string \"11:58H\n",
      "296.2\" included an un-recognized timezone \"H\". Dropping unrecognized timezones is deprecated; in a future version this will raise. Instead pass the string without the timezone, then use .tz_localize to convert to a recognized timezone.\n",
      "  df[\"date_fueled\"] = pd.to_datetime(df[\"date_fueled\"], errors='coerce')\n",
      "/tmp/ipykernel_1947409/3711806637.py:2: FutureWarning: Parsed string \"5:14H\n",
      "283.5\" included an un-recognized timezone \"H\". Dropping unrecognized timezones is deprecated; in a future version this will raise. Instead pass the string without the timezone, then use .tz_localize to convert to a recognized timezone.\n",
      "  df[\"date_fueled\"] = pd.to_datetime(df[\"date_fueled\"], errors='coerce')\n",
      "/tmp/ipykernel_1947409/3711806637.py:2: FutureWarning: Parsed string \"13:17H\n",
      "249.0\" included an un-recognized timezone \"H\". Dropping unrecognized timezones is deprecated; in a future version this will raise. Instead pass the string without the timezone, then use .tz_localize to convert to a recognized timezone.\n",
      "  df[\"date_fueled\"] = pd.to_datetime(df[\"date_fueled\"], errors='coerce')\n",
      "/tmp/ipykernel_1947409/3711806637.py:2: FutureWarning: Parsed string \"12:30H\n",
      "280.8\" included an un-recognized timezone \"H\". Dropping unrecognized timezones is deprecated; in a future version this will raise. Instead pass the string without the timezone, then use .tz_localize to convert to a recognized timezone.\n",
      "  df[\"date_fueled\"] = pd.to_datetime(df[\"date_fueled\"], errors='coerce')\n",
      "/tmp/ipykernel_1947409/3711806637.py:2: FutureWarning: Parsed string \"11:02H\n",
      "258.5\" included an un-recognized timezone \"H\". Dropping unrecognized timezones is deprecated; in a future version this will raise. Instead pass the string without the timezone, then use .tz_localize to convert to a recognized timezone.\n",
      "  df[\"date_fueled\"] = pd.to_datetime(df[\"date_fueled\"], errors='coerce')\n",
      "/tmp/ipykernel_1947409/3711806637.py:2: FutureWarning: Parsed string \"11:49H\n",
      "269.4\" included an un-recognized timezone \"H\". Dropping unrecognized timezones is deprecated; in a future version this will raise. Instead pass the string without the timezone, then use .tz_localize to convert to a recognized timezone.\n",
      "  df[\"date_fueled\"] = pd.to_datetime(df[\"date_fueled\"], errors='coerce')\n",
      "/tmp/ipykernel_1947409/3711806637.py:2: FutureWarning: Parsed string \"10:41H\n",
      "287.0\" included an un-recognized timezone \"H\". Dropping unrecognized timezones is deprecated; in a future version this will raise. Instead pass the string without the timezone, then use .tz_localize to convert to a recognized timezone.\n",
      "  df[\"date_fueled\"] = pd.to_datetime(df[\"date_fueled\"], errors='coerce')\n",
      "/tmp/ipykernel_1947409/3711806637.py:2: FutureWarning: Parsed string \"12:56H\n",
      "276.1\" included an un-recognized timezone \"H\". Dropping unrecognized timezones is deprecated; in a future version this will raise. Instead pass the string without the timezone, then use .tz_localize to convert to a recognized timezone.\n",
      "  df[\"date_fueled\"] = pd.to_datetime(df[\"date_fueled\"], errors='coerce')\n",
      "/tmp/ipykernel_1947409/3711806637.py:2: FutureWarning: Parsed string \"13:23H\n",
      "273.4\" included an un-recognized timezone \"H\". Dropping unrecognized timezones is deprecated; in a future version this will raise. Instead pass the string without the timezone, then use .tz_localize to convert to a recognized timezone.\n",
      "  df[\"date_fueled\"] = pd.to_datetime(df[\"date_fueled\"], errors='coerce')\n"
     ]
    },
    {
     "data": {
      "text/plain": [
       "0                NaT\n",
       "1         2012-11-07\n",
       "2         2012-09-22\n",
       "3         2019-05-04\n",
       "4         2022-02-15\n",
       "             ...    \n",
       "1174865   2020-02-19\n",
       "1174866   2019-12-06\n",
       "1174867   2021-10-04\n",
       "1174868   2021-07-26\n",
       "1174869   2019-03-12\n",
       "Name: date_fueled, Length: 1174870, dtype: datetime64[ns]"
      ]
     },
     "execution_count": 61,
     "metadata": {},
     "output_type": "execute_result"
    }
   ],
   "source": [
    "date_fueled = df[\"date_fueled\"]\n",
    "df[\"date_fueled\"] = pd.to_datetime(df[\"date_fueled\"], errors='coerce')\n",
    "df[\"date_fueled\"]"
   ]
  },
  {
   "cell_type": "markdown",
   "id": "696ea1cb-3b06-4411-808e-07b7a0e388cd",
   "metadata": {},
   "source": [
    "# 1"
   ]
  },
  {
   "cell_type": "markdown",
   "id": "21f8f764-47b9-4349-b145-da0fe49aeb12",
   "metadata": {},
   "source": [
    "## 1.1"
   ]
  },
  {
   "cell_type": "markdown",
   "id": "3b59c71a-3b2c-4a5e-837e-486d7a9ee7d6",
   "metadata": {},
   "source": [
    "### 1\n",
    "Identify what percentage of date_fueled entries that are not proper dates."
   ]
  },
  {
   "cell_type": "code",
   "execution_count": 62,
   "id": "975deeba-b915-406b-acb0-6f29c1a4b102",
   "metadata": {},
   "outputs": [
    {
     "name": "stdout",
     "output_type": "stream",
     "text": [
      "The percentage is 11.65763020589512 % \n"
     ]
    }
   ],
   "source": [
    "totalnumrows = len(df[\"date_fueled\"])\n",
    "invalid_row_count=int(df[\"date_fueled\"].isna().sum())\n",
    "\n",
    "percentage = (invalid_row_count/totalnumrows)*100\n",
    "print(f\"The percentage is {percentage} % \")"
   ]
  },
  {
   "cell_type": "markdown",
   "id": "8e94d39e-1d4f-4784-bffc-dbd7fddd6838",
   "metadata": {},
   "source": [
    "### 2\n",
    "Replace NAT with values from the date captured column"
   ]
  },
  {
   "cell_type": "code",
   "execution_count": 63,
   "id": "d8ca3c88-f62d-4ca6-87f2-a153e569b672",
   "metadata": {},
   "outputs": [],
   "source": [
    "df[\"date_fueled\"] = df[\"date_fueled\"].fillna(df[\"date_captured\"])"
   ]
  },
  {
   "cell_type": "markdown",
   "id": "b8aa9487-10b7-460e-8610-6fea5d284817",
   "metadata": {},
   "source": [
    "### 3."
   ]
  },
  {
   "cell_type": "code",
   "execution_count": 64,
   "id": "e51443e0-b91a-4e3a-a5da-25861dbb92ae",
   "metadata": {},
   "outputs": [
    {
     "data": {
      "text/plain": [
       "0"
      ]
     },
     "execution_count": 64,
     "metadata": {},
     "output_type": "execute_result"
    }
   ],
   "source": [
    "df[\"date_fueled\"] = pd.to_datetime(df[\"date_fueled\"], errors='coerce')\n",
    "invalid_row_count=int(df[\"date_fueled\"].isna().sum())\n",
    "invalid_row_count"
   ]
  },
  {
   "cell_type": "code",
   "execution_count": 65,
   "id": "a48a7789-b2ee-4870-963e-bafbef2e83f8",
   "metadata": {},
   "outputs": [
    {
     "data": {
      "text/html": [
       "<div>\n",
       "<style scoped>\n",
       "    .dataframe tbody tr th:only-of-type {\n",
       "        vertical-align: middle;\n",
       "    }\n",
       "\n",
       "    .dataframe tbody tr th {\n",
       "        vertical-align: top;\n",
       "    }\n",
       "\n",
       "    .dataframe thead th {\n",
       "        text-align: right;\n",
       "    }\n",
       "</style>\n",
       "<table border=\"1\" class=\"dataframe\">\n",
       "  <thead>\n",
       "    <tr style=\"text-align: right;\">\n",
       "      <th></th>\n",
       "      <th>date_fueled</th>\n",
       "      <th>date_captured</th>\n",
       "      <th>odometer</th>\n",
       "      <th>gallons</th>\n",
       "      <th>cost_per_gallon</th>\n",
       "      <th>total_spent</th>\n",
       "      <th>mpg</th>\n",
       "      <th>miles</th>\n",
       "      <th>user_url</th>\n",
       "    </tr>\n",
       "  </thead>\n",
       "  <tbody>\n",
       "    <tr>\n",
       "      <th>0</th>\n",
       "      <td>2022-04-07</td>\n",
       "      <td>Apr 7 2022</td>\n",
       "      <td>73,370</td>\n",
       "      <td>NaN</td>\n",
       "      <td>NaN</td>\n",
       "      <td>NaN</td>\n",
       "      <td>NaN</td>\n",
       "      <td>NaN</td>\n",
       "      <td>https://www.somewebsite.com/suzuki/swift/2015/...</td>\n",
       "    </tr>\n",
       "    <tr>\n",
       "      <th>1</th>\n",
       "      <td>2012-11-07</td>\n",
       "      <td>Aug 30 2016</td>\n",
       "      <td>11,983</td>\n",
       "      <td>12.120</td>\n",
       "      <td>$5.599</td>\n",
       "      <td>$67.86</td>\n",
       "      <td>31.6</td>\n",
       "      <td>NaN</td>\n",
       "      <td>https://www.somewebsite.com/bmw/x3/2009/461150</td>\n",
       "    </tr>\n",
       "    <tr>\n",
       "      <th>2</th>\n",
       "      <td>2012-09-22</td>\n",
       "      <td>Sep 28 2012</td>\n",
       "      <td>98,233</td>\n",
       "      <td>7.991</td>\n",
       "      <td>£5.45</td>\n",
       "      <td>£43.53</td>\n",
       "      <td>28.5</td>\n",
       "      <td>NaN</td>\n",
       "      <td>https://www.somewebsite.com/mercedes-benz/e300...</td>\n",
       "    </tr>\n",
       "    <tr>\n",
       "      <th>3</th>\n",
       "      <td>2019-05-04</td>\n",
       "      <td>May 4 2019</td>\n",
       "      <td>163,802</td>\n",
       "      <td>10.575</td>\n",
       "      <td>£5.11</td>\n",
       "      <td>£54.00</td>\n",
       "      <td>46.8</td>\n",
       "      <td>NaN</td>\n",
       "      <td>https://www.somewebsite.com/bmw/320d/2010/247233</td>\n",
       "    </tr>\n",
       "    <tr>\n",
       "      <th>4</th>\n",
       "      <td>2022-02-15</td>\n",
       "      <td>Feb 15 2022</td>\n",
       "      <td>NaN</td>\n",
       "      <td>11.651</td>\n",
       "      <td>$3.029</td>\n",
       "      <td>$35.29</td>\n",
       "      <td>21.0</td>\n",
       "      <td>244.4</td>\n",
       "      <td>https://www.somewebsite.com/honda/passport/201...</td>\n",
       "    </tr>\n",
       "    <tr>\n",
       "      <th>...</th>\n",
       "      <td>...</td>\n",
       "      <td>...</td>\n",
       "      <td>...</td>\n",
       "      <td>...</td>\n",
       "      <td>...</td>\n",
       "      <td>...</td>\n",
       "      <td>...</td>\n",
       "      <td>...</td>\n",
       "      <td>...</td>\n",
       "    </tr>\n",
       "    <tr>\n",
       "      <th>1174865</th>\n",
       "      <td>2020-02-19</td>\n",
       "      <td>Feb 19 2020</td>\n",
       "      <td>118,237</td>\n",
       "      <td>13.046</td>\n",
       "      <td>$1.999</td>\n",
       "      <td>$26.08</td>\n",
       "      <td>25.7</td>\n",
       "      <td>NaN</td>\n",
       "      <td>https://www.somewebsite.com/volkswagen/beetle/...</td>\n",
       "    </tr>\n",
       "    <tr>\n",
       "      <th>1174866</th>\n",
       "      <td>2019-12-06</td>\n",
       "      <td>Dec 6 2019</td>\n",
       "      <td>141,761</td>\n",
       "      <td>12.637</td>\n",
       "      <td>$2.449</td>\n",
       "      <td>$30.95</td>\n",
       "      <td>20.0</td>\n",
       "      <td>NaN</td>\n",
       "      <td>https://www.somewebsite.com/toyota/avalon/2000...</td>\n",
       "    </tr>\n",
       "    <tr>\n",
       "      <th>1174867</th>\n",
       "      <td>2021-10-04</td>\n",
       "      <td>Oct 4 2021</td>\n",
       "      <td>65,029</td>\n",
       "      <td>10.002</td>\n",
       "      <td>$3.449</td>\n",
       "      <td>$34.50</td>\n",
       "      <td>28.5</td>\n",
       "      <td>NaN</td>\n",
       "      <td>https://www.somewebsite.com/fiat/500/2013/909694</td>\n",
       "    </tr>\n",
       "    <tr>\n",
       "      <th>1174868</th>\n",
       "      <td>2021-07-26</td>\n",
       "      <td>Jul 26 2021</td>\n",
       "      <td>15,255</td>\n",
       "      <td>10.493</td>\n",
       "      <td>$3.539</td>\n",
       "      <td>$37.13</td>\n",
       "      <td>36.5</td>\n",
       "      <td>NaN</td>\n",
       "      <td>https://www.somewebsite.com/mini/cooper/2019/9...</td>\n",
       "    </tr>\n",
       "    <tr>\n",
       "      <th>1174869</th>\n",
       "      <td>2019-03-12</td>\n",
       "      <td>Mar 12 2019</td>\n",
       "      <td>204,774</td>\n",
       "      <td>17.350</td>\n",
       "      <td>$3.199</td>\n",
       "      <td>$55.50</td>\n",
       "      <td>0.0</td>\n",
       "      <td>NaN</td>\n",
       "      <td>https://www.somewebsite.com/lexus/lx470/2001/8...</td>\n",
       "    </tr>\n",
       "  </tbody>\n",
       "</table>\n",
       "<p>1174139 rows × 9 columns</p>\n",
       "</div>"
      ],
      "text/plain": [
       "        date_fueled date_captured  odometer gallons cost_per_gallon  \\\n",
       "0        2022-04-07    Apr 7 2022   73,370      NaN             NaN   \n",
       "1        2012-11-07   Aug 30 2016   11,983   12.120          $5.599   \n",
       "2        2012-09-22   Sep 28 2012   98,233    7.991           £5.45   \n",
       "3        2019-05-04    May 4 2019  163,802   10.575           £5.11   \n",
       "4        2022-02-15   Feb 15 2022       NaN  11.651          $3.029   \n",
       "...             ...           ...       ...     ...             ...   \n",
       "1174865  2020-02-19   Feb 19 2020  118,237   13.046          $1.999   \n",
       "1174866  2019-12-06    Dec 6 2019  141,761   12.637          $2.449   \n",
       "1174867  2021-10-04    Oct 4 2021   65,029   10.002          $3.449   \n",
       "1174868  2021-07-26   Jul 26 2021   15,255   10.493          $3.539   \n",
       "1174869  2019-03-12   Mar 12 2019  204,774   17.350          $3.199   \n",
       "\n",
       "        total_spent   mpg    miles  \\\n",
       "0               NaN   NaN      NaN   \n",
       "1            $67.86  31.6      NaN   \n",
       "2            £43.53  28.5      NaN   \n",
       "3            £54.00  46.8      NaN   \n",
       "4            $35.29  21.0   244.4    \n",
       "...             ...   ...      ...   \n",
       "1174865      $26.08  25.7      NaN   \n",
       "1174866      $30.95  20.0      NaN   \n",
       "1174867      $34.50  28.5      NaN   \n",
       "1174868      $37.13  36.5      NaN   \n",
       "1174869      $55.50   0.0      NaN   \n",
       "\n",
       "                                                  user_url  \n",
       "0        https://www.somewebsite.com/suzuki/swift/2015/...  \n",
       "1           https://www.somewebsite.com/bmw/x3/2009/461150  \n",
       "2        https://www.somewebsite.com/mercedes-benz/e300...  \n",
       "3         https://www.somewebsite.com/bmw/320d/2010/247233  \n",
       "4        https://www.somewebsite.com/honda/passport/201...  \n",
       "...                                                    ...  \n",
       "1174865  https://www.somewebsite.com/volkswagen/beetle/...  \n",
       "1174866  https://www.somewebsite.com/toyota/avalon/2000...  \n",
       "1174867   https://www.somewebsite.com/fiat/500/2013/909694  \n",
       "1174868  https://www.somewebsite.com/mini/cooper/2019/9...  \n",
       "1174869  https://www.somewebsite.com/lexus/lx470/2001/8...  \n",
       "\n",
       "[1174139 rows x 9 columns]"
      ]
     },
     "execution_count": 65,
     "metadata": {},
     "output_type": "execute_result"
    }
   ],
   "source": [
    "df = df[(df[\"date_fueled\"] >= \"2005-01-01\") & (df[\"date_fueled\"] <= pd.Timestamp.today())]\n",
    "df"
   ]
  },
  {
   "cell_type": "code",
   "execution_count": null,
   "id": "fca6f5bc-7b80-4367-8d36-31957568c845",
   "metadata": {},
   "outputs": [],
   "source": []
  },
  {
   "cell_type": "markdown",
   "id": "d590f993-410e-4e15-a48a-d0b039a4c322",
   "metadata": {},
   "source": [
    "### Plot the distribution of fueling dates.\n",
    "\n",
    "The first fueling appears from 2005 onward, which matches the lower bound. From 2005 to around 2015 the number of fueling records graws gradually year by year."
   ]
  },
  {
   "cell_type": "code",
   "execution_count": 66,
   "id": "9a6af1a4-da83-4faa-ab9f-ba27919bd30c",
   "metadata": {},
   "outputs": [
    {
     "data": {
      "image/png": "[encoded data removed]",
      "text/plain": [
       "<Figure size 1000x500 with 1 Axes>"
      ]
     },
     "metadata": {},
     "output_type": "display_data"
    }
   ],
   "source": [
    "df[\"date_fueled\"].dropna().hist(bins=50, figsize=(10,5))\n",
    "plt.xlabel(\"Date Fueled\")\n",
    "plt.ylabel(\"Frequency\")\n",
    "plt.title(\"Distribution of date_fueled (Cleaned)\")\n",
    "plt.xticks(rotation=45)\n",
    "plt.tight_layout()\n",
    "plt.show()"
   ]
  },
  {
   "cell_type": "code",
   "execution_count": null,
   "id": "8efc6b4b-f323-4db9-9666-1ae2899fa7d2",
   "metadata": {},
   "outputs": [],
   "source": [
    "\n"
   ]
  },
  {
   "cell_type": "markdown",
   "id": "bb969b6f-7f04-4ca0-802d-56046fd4fd95",
   "metadata": {},
   "source": [
    "## 1.2: Numeric Fields"
   ]
  },
  {
   "cell_type": "markdown",
   "id": "85b5bfea-6773-45c3-9370-32ff2ff8c3f1",
   "metadata": {},
   "source": [
    "## 1. Percentage of gallons, miles and odometer entries that are missing"
   ]
  },
  {
   "cell_type": "code",
   "execution_count": 67,
   "id": "79218e4b-8a42-4d7c-bde0-1e329f399d81",
   "metadata": {},
   "outputs": [
    {
     "name": "stdout",
     "output_type": "stream",
     "text": [
      "Percentage of missing galons :  6.316969285578623%\n"
     ]
    }
   ],
   "source": [
    "missing_galons=int(df[\"gallons\"].isna().sum())\n",
    "num_galons = len(df[\"gallons\"])\n",
    "missing_galon_percentage = (missing_galons/num_galons)*100\n",
    "print(f\"Percentage of missing galons :  {missing_galon_percentage}%\")"
   ]
  },
  {
   "cell_type": "code",
   "execution_count": 68,
   "id": "f7dc51d9-b67c-40a3-8d62-e8fd77f1609e",
   "metadata": {},
   "outputs": [
    {
     "name": "stdout",
     "output_type": "stream",
     "text": [
      "Percentage of missing galons :  87.56084245562067%\n"
     ]
    }
   ],
   "source": [
    "missing_miles=int(df[\"miles\"].isna().sum())\n",
    "num_miles = len(df[\"miles\"])\n",
    "missing_miles_percentage = (missing_miles/num_galons)*100\n",
    "print(f\"Percentage of missing galons :  {missing_miles_percentage}%\")"
   ]
  },
  {
   "cell_type": "code",
   "execution_count": 69,
   "id": "019bab13-9174-4eaa-8b4b-40de9a796c0f",
   "metadata": {},
   "outputs": [
    {
     "name": "stdout",
     "output_type": "stream",
     "text": [
      "Percentage of missing galons :  12.68444366467684%\n"
     ]
    }
   ],
   "source": [
    "missing_odometer=int(df[\"odometer\"].isna().sum())\n",
    "num_odometer = len(df[\"odometer\"])\n",
    "missing_odometer_percentage = (missing_odometer/num_odometer)*100\n",
    "print(f\"Percentage of missing galons :  {missing_odometer_percentage}%\")"
   ]
  },
  {
   "cell_type": "markdown",
   "id": "acfa17fe-37f6-4892-8805-0c80ed5b4581",
   "metadata": {},
   "source": [
    "### 2. Columns"
   ]
  },
  {
   "cell_type": "code",
   "execution_count": 70,
   "id": "0300e684-f308-402d-9886-dabdc0630c65",
   "metadata": {},
   "outputs": [],
   "source": [
    "# Ensure numeric dtype (convert errors to NaN)\n",
    "df[\"miles\"] = pd.to_numeric(df[\"miles\"], errors=\"coerce\")\n",
    "df[\"gallons\"] = pd.to_numeric(df[\"gallons\"], errors=\"coerce\")\n",
    "df[\"mpg\"] = pd.to_numeric(df[\"mpg\"], errors=\"coerce\")"
   ]
  },
  {
   "cell_type": "code",
   "execution_count": 71,
   "id": "178c11ea-4b1e-4f53-914c-3b0b8887b494",
   "metadata": {},
   "outputs": [],
   "source": [
    "# Fill mpg where missing\n",
    "mask = df[\"mpg\"].isna() & df[\"miles\"].notna() & df[\"gallons\"].notna() & (df[\"gallons\"] != 0)\n",
    "df.loc[mask, \"mpg\"] = df.loc[mask, \"miles\"] / df.loc[mask, \"gallons\"]\n",
    "\n",
    "# Fill miles where missing\n",
    "mask = df[\"miles\"].isna() & df[\"mpg\"].notna() & df[\"gallons\"].notna()\n",
    "df.loc[mask, \"miles\"] = df.loc[mask, \"mpg\"] * df.loc[mask, \"gallons\"]\n",
    "\n",
    "# Fill gallons where missing\n",
    "mask = df[\"gallons\"].isna() & df[\"miles\"].notna() & df[\"mpg\"].notna() & (df[\"mpg\"] != 0)\n",
    "df.loc[mask, \"gallons\"] = df.loc[mask, \"miles\"] / df.loc[mask, \"mpg\"]"
   ]
  },
  {
   "cell_type": "code",
   "execution_count": 73,
   "id": "cca5942b-780e-47e0-8804-680c1b62e316",
   "metadata": {},
   "outputs": [],
   "source": [
    "df[[\"miles\", \"gallons\", \"mpg\"]] = df.apply(fill_values, axis=1)"
   ]
  },
  {
   "cell_type": "code",
   "execution_count": 74,
   "id": "a77bb1a4-675b-4588-8f81-8a5eb04cfe19",
   "metadata": {},
   "outputs": [
    {
     "data": {
      "text/html": [
       "<div>\n",
       "<style scoped>\n",
       "    .dataframe tbody tr th:only-of-type {\n",
       "        vertical-align: middle;\n",
       "    }\n",
       "\n",
       "    .dataframe tbody tr th {\n",
       "        vertical-align: top;\n",
       "    }\n",
       "\n",
       "    .dataframe thead th {\n",
       "        text-align: right;\n",
       "    }\n",
       "</style>\n",
       "<table border=\"1\" class=\"dataframe\">\n",
       "  <thead>\n",
       "    <tr style=\"text-align: right;\">\n",
       "      <th></th>\n",
       "      <th>date_fueled</th>\n",
       "      <th>date_captured</th>\n",
       "      <th>odometer</th>\n",
       "      <th>gallons</th>\n",
       "      <th>cost_per_gallon</th>\n",
       "      <th>total_spent</th>\n",
       "      <th>mpg</th>\n",
       "      <th>miles</th>\n",
       "      <th>user_url</th>\n",
       "    </tr>\n",
       "  </thead>\n",
       "  <tbody>\n",
       "    <tr>\n",
       "      <th>0</th>\n",
       "      <td>2022-04-07</td>\n",
       "      <td>Apr 7 2022</td>\n",
       "      <td>73,370</td>\n",
       "      <td>NaN</td>\n",
       "      <td>NaN</td>\n",
       "      <td>NaN</td>\n",
       "      <td>NaN</td>\n",
       "      <td>NaN</td>\n",
       "      <td>https://www.somewebsite.com/suzuki/swift/2015/...</td>\n",
       "    </tr>\n",
       "    <tr>\n",
       "      <th>1</th>\n",
       "      <td>2012-11-07</td>\n",
       "      <td>Aug 30 2016</td>\n",
       "      <td>11,983</td>\n",
       "      <td>12.120</td>\n",
       "      <td>$5.599</td>\n",
       "      <td>$67.86</td>\n",
       "      <td>31.6</td>\n",
       "      <td>382.9920</td>\n",
       "      <td>https://www.somewebsite.com/bmw/x3/2009/461150</td>\n",
       "    </tr>\n",
       "    <tr>\n",
       "      <th>2</th>\n",
       "      <td>2012-09-22</td>\n",
       "      <td>Sep 28 2012</td>\n",
       "      <td>98,233</td>\n",
       "      <td>7.991</td>\n",
       "      <td>£5.45</td>\n",
       "      <td>£43.53</td>\n",
       "      <td>28.5</td>\n",
       "      <td>227.7435</td>\n",
       "      <td>https://www.somewebsite.com/mercedes-benz/e300...</td>\n",
       "    </tr>\n",
       "    <tr>\n",
       "      <th>3</th>\n",
       "      <td>2019-05-04</td>\n",
       "      <td>May 4 2019</td>\n",
       "      <td>163,802</td>\n",
       "      <td>10.575</td>\n",
       "      <td>£5.11</td>\n",
       "      <td>£54.00</td>\n",
       "      <td>46.8</td>\n",
       "      <td>494.9100</td>\n",
       "      <td>https://www.somewebsite.com/bmw/320d/2010/247233</td>\n",
       "    </tr>\n",
       "    <tr>\n",
       "      <th>4</th>\n",
       "      <td>2022-02-15</td>\n",
       "      <td>Feb 15 2022</td>\n",
       "      <td>NaN</td>\n",
       "      <td>11.651</td>\n",
       "      <td>$3.029</td>\n",
       "      <td>$35.29</td>\n",
       "      <td>21.0</td>\n",
       "      <td>244.4000</td>\n",
       "      <td>https://www.somewebsite.com/honda/passport/201...</td>\n",
       "    </tr>\n",
       "    <tr>\n",
       "      <th>...</th>\n",
       "      <td>...</td>\n",
       "      <td>...</td>\n",
       "      <td>...</td>\n",
       "      <td>...</td>\n",
       "      <td>...</td>\n",
       "      <td>...</td>\n",
       "      <td>...</td>\n",
       "      <td>...</td>\n",
       "      <td>...</td>\n",
       "    </tr>\n",
       "    <tr>\n",
       "      <th>1174865</th>\n",
       "      <td>2020-02-19</td>\n",
       "      <td>Feb 19 2020</td>\n",
       "      <td>118,237</td>\n",
       "      <td>13.046</td>\n",
       "      <td>$1.999</td>\n",
       "      <td>$26.08</td>\n",
       "      <td>25.7</td>\n",
       "      <td>335.2822</td>\n",
       "      <td>https://www.somewebsite.com/volkswagen/beetle/...</td>\n",
       "    </tr>\n",
       "    <tr>\n",
       "      <th>1174866</th>\n",
       "      <td>2019-12-06</td>\n",
       "      <td>Dec 6 2019</td>\n",
       "      <td>141,761</td>\n",
       "      <td>12.637</td>\n",
       "      <td>$2.449</td>\n",
       "      <td>$30.95</td>\n",
       "      <td>20.0</td>\n",
       "      <td>252.7400</td>\n",
       "      <td>https://www.somewebsite.com/toyota/avalon/2000...</td>\n",
       "    </tr>\n",
       "    <tr>\n",
       "      <th>1174867</th>\n",
       "      <td>2021-10-04</td>\n",
       "      <td>Oct 4 2021</td>\n",
       "      <td>65,029</td>\n",
       "      <td>10.002</td>\n",
       "      <td>$3.449</td>\n",
       "      <td>$34.50</td>\n",
       "      <td>28.5</td>\n",
       "      <td>285.0570</td>\n",
       "      <td>https://www.somewebsite.com/fiat/500/2013/909694</td>\n",
       "    </tr>\n",
       "    <tr>\n",
       "      <th>1174868</th>\n",
       "      <td>2021-07-26</td>\n",
       "      <td>Jul 26 2021</td>\n",
       "      <td>15,255</td>\n",
       "      <td>10.493</td>\n",
       "      <td>$3.539</td>\n",
       "      <td>$37.13</td>\n",
       "      <td>36.5</td>\n",
       "      <td>382.9945</td>\n",
       "      <td>https://www.somewebsite.com/mini/cooper/2019/9...</td>\n",
       "    </tr>\n",
       "    <tr>\n",
       "      <th>1174869</th>\n",
       "      <td>2019-03-12</td>\n",
       "      <td>Mar 12 2019</td>\n",
       "      <td>204,774</td>\n",
       "      <td>17.350</td>\n",
       "      <td>$3.199</td>\n",
       "      <td>$55.50</td>\n",
       "      <td>0.0</td>\n",
       "      <td>0.0000</td>\n",
       "      <td>https://www.somewebsite.com/lexus/lx470/2001/8...</td>\n",
       "    </tr>\n",
       "  </tbody>\n",
       "</table>\n",
       "<p>1174139 rows × 9 columns</p>\n",
       "</div>"
      ],
      "text/plain": [
       "        date_fueled date_captured  odometer  gallons cost_per_gallon  \\\n",
       "0        2022-04-07    Apr 7 2022   73,370       NaN             NaN   \n",
       "1        2012-11-07   Aug 30 2016   11,983    12.120          $5.599   \n",
       "2        2012-09-22   Sep 28 2012   98,233     7.991           £5.45   \n",
       "3        2019-05-04    May 4 2019  163,802    10.575           £5.11   \n",
       "4        2022-02-15   Feb 15 2022       NaN   11.651          $3.029   \n",
       "...             ...           ...       ...      ...             ...   \n",
       "1174865  2020-02-19   Feb 19 2020  118,237    13.046          $1.999   \n",
       "1174866  2019-12-06    Dec 6 2019  141,761    12.637          $2.449   \n",
       "1174867  2021-10-04    Oct 4 2021   65,029    10.002          $3.449   \n",
       "1174868  2021-07-26   Jul 26 2021   15,255    10.493          $3.539   \n",
       "1174869  2019-03-12   Mar 12 2019  204,774    17.350          $3.199   \n",
       "\n",
       "        total_spent   mpg     miles  \\\n",
       "0               NaN   NaN       NaN   \n",
       "1            $67.86  31.6  382.9920   \n",
       "2            £43.53  28.5  227.7435   \n",
       "3            £54.00  46.8  494.9100   \n",
       "4            $35.29  21.0  244.4000   \n",
       "...             ...   ...       ...   \n",
       "1174865      $26.08  25.7  335.2822   \n",
       "1174866      $30.95  20.0  252.7400   \n",
       "1174867      $34.50  28.5  285.0570   \n",
       "1174868      $37.13  36.5  382.9945   \n",
       "1174869      $55.50   0.0    0.0000   \n",
       "\n",
       "                                                  user_url  \n",
       "0        https://www.somewebsite.com/suzuki/swift/2015/...  \n",
       "1           https://www.somewebsite.com/bmw/x3/2009/461150  \n",
       "2        https://www.somewebsite.com/mercedes-benz/e300...  \n",
       "3         https://www.somewebsite.com/bmw/320d/2010/247233  \n",
       "4        https://www.somewebsite.com/honda/passport/201...  \n",
       "...                                                    ...  \n",
       "1174865  https://www.somewebsite.com/volkswagen/beetle/...  \n",
       "1174866  https://www.somewebsite.com/toyota/avalon/2000...  \n",
       "1174867   https://www.somewebsite.com/fiat/500/2013/909694  \n",
       "1174868  https://www.somewebsite.com/mini/cooper/2019/9...  \n",
       "1174869  https://www.somewebsite.com/lexus/lx470/2001/8...  \n",
       "\n",
       "[1174139 rows x 9 columns]"
      ]
     },
     "execution_count": 74,
     "metadata": {},
     "output_type": "execute_result"
    }
   ],
   "source": [
    "df"
   ]
  },
  {
   "cell_type": "markdown",
   "id": "11b82d5e-9402-4f24-84dd-ea842b590398",
   "metadata": {},
   "source": [
    "### 4.\n",
    "\n",
    "#### Miles\n",
    "- Likely right skewed because most trips are short, but some very long trips create a heavy tail.\n",
    "\n",
    "#### Gallons\n",
    "- Also right skewed as most fuel ups are small to moderate, with a few large refuels.\n",
    "\n",
    "#### MPG\n",
    "- Miles per Gallon, clusters around a central value."
   ]
  },
  {
   "cell_type": "code",
   "execution_count": 75,
   "id": "e627b791-c8cf-4bde-9bbb-6e1518ebbd43",
   "metadata": {},
   "outputs": [
    {
     "data": {
      "image/png": "[encoded data removed]",
      "text/plain": [
       "<Figure size 1800x500 with 3 Axes>"
      ]
     },
     "metadata": {},
     "output_type": "display_data"
    }
   ],
   "source": [
    "fig, axes = plt.subplots(1, 3, figsize=(18, 5))\n",
    "\n",
    "df[\"miles\"].dropna().hist(bins=50, ax=axes[0])\n",
    "axes[0].set_title(\"Miles Distribution\")\n",
    "axes[0].set_xlabel(\"Miles\")\n",
    "axes[0].set_ylabel(\"Frequency\")\n",
    "\n",
    "df[\"gallons\"].dropna().hist(bins=50, ax=axes[1])\n",
    "axes[1].set_title(\"Gallons Distribution\")\n",
    "axes[1].set_xlabel(\"Gallons\")\n",
    "\n",
    "df[\"mpg\"].dropna().hist(bins=50, ax=axes[2])\n",
    "axes[2].set_title(\"MPG Distribution\")\n",
    "axes[2].set_xlabel(\"MPG\")\n",
    "\n",
    "plt.tight_layout()\n",
    "plt.show()\n"
   ]
  },
  {
   "cell_type": "markdown",
   "id": "f13a15b6-c58d-4d40-8b75-e6851c805023",
   "metadata": {},
   "source": [
    "### 5.\n",
    "Mean, standard deviation, max, min, most frequent and quartiles."
   ]
  },
  {
   "cell_type": "code",
   "execution_count": 77,
   "id": "7f7c6d3b-5db1-48bd-b9ba-33a4e9b1db56",
   "metadata": {},
   "outputs": [
    {
     "data": {
      "text/html": [
       "<div>\n",
       "<style scoped>\n",
       "    .dataframe tbody tr th:only-of-type {\n",
       "        vertical-align: middle;\n",
       "    }\n",
       "\n",
       "    .dataframe tbody tr th {\n",
       "        vertical-align: top;\n",
       "    }\n",
       "\n",
       "    .dataframe thead th {\n",
       "        text-align: right;\n",
       "    }\n",
       "</style>\n",
       "<table border=\"1\" class=\"dataframe\">\n",
       "  <thead>\n",
       "    <tr style=\"text-align: right;\">\n",
       "      <th></th>\n",
       "      <th>count</th>\n",
       "      <th>mean</th>\n",
       "      <th>std</th>\n",
       "      <th>min</th>\n",
       "      <th>25%</th>\n",
       "      <th>50%</th>\n",
       "      <th>75%</th>\n",
       "      <th>max</th>\n",
       "      <th>mode</th>\n",
       "    </tr>\n",
       "  </thead>\n",
       "  <tbody>\n",
       "    <tr>\n",
       "      <th>miles</th>\n",
       "      <td>1099903.0</td>\n",
       "      <td>264.517662</td>\n",
       "      <td>190.683841</td>\n",
       "      <td>0.0</td>\n",
       "      <td>181.34315</td>\n",
       "      <td>267.015</td>\n",
       "      <td>342.7104</td>\n",
       "      <td>23238.40</td>\n",
       "      <td>0.000</td>\n",
       "    </tr>\n",
       "    <tr>\n",
       "      <th>gallons</th>\n",
       "      <td>1099906.0</td>\n",
       "      <td>12.381489</td>\n",
       "      <td>6.740266</td>\n",
       "      <td>0.0</td>\n",
       "      <td>8.99000</td>\n",
       "      <td>11.954</td>\n",
       "      <td>14.9380</td>\n",
       "      <td>984.71</td>\n",
       "      <td>10.567</td>\n",
       "    </tr>\n",
       "    <tr>\n",
       "      <th>mpg</th>\n",
       "      <td>1099966.0</td>\n",
       "      <td>22.159632</td>\n",
       "      <td>15.639106</td>\n",
       "      <td>0.0</td>\n",
       "      <td>15.60000</td>\n",
       "      <td>21.800</td>\n",
       "      <td>28.5000</td>\n",
       "      <td>786.50</td>\n",
       "      <td>0.000</td>\n",
       "    </tr>\n",
       "  </tbody>\n",
       "</table>\n",
       "</div>"
      ],
      "text/plain": [
       "             count        mean         std  min        25%      50%       75%  \\\n",
       "miles    1099903.0  264.517662  190.683841  0.0  181.34315  267.015  342.7104   \n",
       "gallons  1099906.0   12.381489    6.740266  0.0    8.99000   11.954   14.9380   \n",
       "mpg      1099966.0   22.159632   15.639106  0.0   15.60000   21.800   28.5000   \n",
       "\n",
       "              max    mode  \n",
       "miles    23238.40   0.000  \n",
       "gallons    984.71  10.567  \n",
       "mpg        786.50   0.000  "
      ]
     },
     "execution_count": 77,
     "metadata": {},
     "output_type": "execute_result"
    }
   ],
   "source": [
    "df[\"miles\"] = pd.to_numeric(df[\"miles\"], errors=\"coerce\")\n",
    "df[\"gallons\"] = pd.to_numeric(df[\"gallons\"], errors=\"coerce\")\n",
    "df[\"mpg\"] = pd.to_numeric(df[\"mpg\"], errors=\"coerce\")\n",
    "\n",
    "stats = df[[\"miles\", \"gallons\", \"mpg\"]].describe(include=\"all\").T\n",
    "\n",
    "stats[\"mode\"] = df[[\"miles\", \"gallons\", \"mpg\"]].mode().iloc[0]\n",
    "\n",
    "stats\n"
   ]
  },
  {
   "cell_type": "code",
   "execution_count": null,
   "id": "6ba5acfb-201f-4131-a8b4-5072d06091ab",
   "metadata": {},
   "outputs": [],
   "source": []
  }
 ],
 "metadata": {
  "kernelspec": {
   "display_name": "Python 3 (ipykernel)",
   "language": "python",
   "name": "python3"
  },
  "language_info": {
   "codemirror_mode": {
    "name": "ipython",
    "version": 3
   },
   "file_extension": ".py",
   "mimetype": "text/x-python",
   "name": "python",
   "nbconvert_exporter": "python",
   "pygments_lexer": "ipython3",
   "version": "3.13.5"
  }
 },
 "nbformat": 4,
 "nbformat_minor": 5
}
