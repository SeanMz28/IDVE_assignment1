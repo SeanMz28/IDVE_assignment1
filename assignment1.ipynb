{
 "cells": [
  {
   "cell_type": "markdown",
   "id": "0f77a615",
   "metadata": {},
   "source": [
    "# IDVE Assignment 1\n",
    "\n",
    "## Group Members:\n",
    "- Blessing Kodze - 2560370\n",
    "- Phemelo Masilo -\n",
    "- Sean Mahlanza - 2438634\n",
    "- Gael Joao - 2494554"
   ]
  },
  {
   "cell_type": "markdown",
   "id": "ba56bd5e",
   "metadata": {},
   "source": [
    "## Imports"
   ]
  },
  {
   "cell_type": "code",
   "execution_count": 1,
   "id": "aa9d1266",
   "metadata": {},
   "outputs": [],
   "source": [
    "# Core data handling\n",
    "import pandas as pd\n",
    "import numpy as np\n",
    "from pathlib import Path\n",
    "\n",
    "import re\n",
    "from datetime import datetime\n",
    "import dateutil.parser\n",
    "\n",
    "import matplotlib.pyplot as plt\n",
    "import seaborn as sns\n",
    "\n",
    "from scipy import stats\n",
    "\n",
    "from sklearn.ensemble import RandomForestRegressor\n",
    "from sklearn.model_selection import train_test_split\n",
    "from sklearn.metrics import mean_squared_error, r2_score\n",
    "\n",
    "import warnings\n",
    "warnings.filterwarnings(\"ignore\")"
   ]
  },
  {
   "cell_type": "code",
   "execution_count": 2,
   "id": "861f6fd8",
   "metadata": {},
   "outputs": [],
   "source": [
    "csv_path = Path(\"logbook_assignment1.csv\")\n",
    "if csv_path is None:\n",
    "    raise FileNotFoundError(\"Could not find 'logbook_assignment1.csv' in the working directory\")"
   ]
  },
  {
   "cell_type": "code",
   "execution_count": 3,
   "id": "260af95b",
   "metadata": {},
   "outputs": [
    {
     "name": "stdout",
     "output_type": "stream",
     "text": [
      "Loaded 1,174,870 rows from: logbook_assignment1.csv\n"
     ]
    }
   ],
   "source": [
    "df = pd.read_csv(csv_path, dtype=str)  # read everything as string first (dataset is messy)\n",
    "print(f\"Loaded {len(df):,} rows from: {csv_path}\")"
   ]
  },
  {
   "cell_type": "code",
   "execution_count": 4,
   "id": "1d3464a1",
   "metadata": {},
   "outputs": [
    {
     "name": "stdout",
     "output_type": "stream",
     "text": [
      "All expected columns present.\n"
     ]
    }
   ],
   "source": [
    "# Peek at the columns we care about (ensure expected names exist)\n",
    "expected_cols = ['date_fueled', 'date_captured', 'odometer', 'gallons', 'cost_per_gallon', 'total_spent', 'mpg', 'miles', 'user_url']\n",
    "missing = [c for c in expected_cols if c not in df.columns]\n",
    "if missing:\n",
    "    print(\"Warning: Missing expected columns:\", missing)\n",
    "else:\n",
    "    print(\"All expected columns present.\")"
   ]
  },
  {
   "cell_type": "markdown",
   "id": "2cd4d96d",
   "metadata": {},
   "source": [
    "## 1.1 Date Fields\n",
    "### 1. Percentage of date fueled entries that are not proper dates.\n"
   ]
  },
  {
   "cell_type": "code",
   "execution_count": 5,
   "id": "95f14d87",
   "metadata": {},
   "outputs": [
    {
     "name": "stdout",
     "output_type": "stream",
     "text": [
      "Q1.1(1) — Percentage of 'date_fueled' entries that are NOT proper dates: 11.68%\n",
      "Valid 'date_fueled': 1,037,660 / 1,174,870\n",
      "Invalid 'date_fueled': 137,210 / 1,174,870\n"
     ]
    }
   ],
   "source": [
    "def clean_date_str(s: pd.Series) -> pd.Series:\n",
    "    \"\"\"\n",
    "    Light string cleanup:\n",
    "    - Ensure string type\n",
    "    - Strip whitespace\n",
    "    - Remove stray single/double quotes\n",
    "    - Collapse multiple internal spaces to a single space\n",
    "    \"\"\"\n",
    "    s = s.astype(\"string\")\n",
    "    s = s.str.strip()\n",
    "    s = s.str.replace('\"', '', regex=False).str.replace(\"'\", \"\", regex=False)\n",
    "    s = s.str.replace(r\"\\s+\", \" \", regex=True)  # compress whitespace\n",
    "    return s\n",
    "\n",
    "def parse_mmmdyyyy(series: pd.Series) -> pd.Series:\n",
    "    \"\"\"\n",
    "    Parse dates strictly in format '%b %d %Y' e.g., 'Jan 9 2014'.\n",
    "    Returns datetime64[ns] with NaT for invalids.\n",
    "    \"\"\"\n",
    "    cleaned = clean_date_str(series)\n",
    "    parsed = pd.to_datetime(cleaned, format=\"%b %d %Y\", errors=\"coerce\")\n",
    "    return parsed\n",
    "\n",
    "# Create parsed columns (do not mutate originals)\n",
    "parsed_date_fueled = parse_mmmdyyyy(df['date_fueled'])\n",
    "parsed_date_captured = parse_mmmdyyyy(df['date_captured'])\n",
    "\n",
    "valid_fueled_mask = parsed_date_fueled.notna()\n",
    "valid_captured_mask = parsed_date_captured.notna()\n",
    "\n",
    "percent_not_proper_date = (1.0 - valid_fueled_mask.mean()) * 100.0\n",
    "print(f\"Q1.1(1) — Percentage of 'date_fueled' entries that are NOT proper dates: {percent_not_proper_date:.2f}%\")\n",
    "print(f\"Valid 'date_fueled': {valid_fueled_mask.sum():,} / {len(df):,}\")\n",
    "print(f\"Invalid 'date_fueled': {(~valid_fueled_mask).sum():,} / {len(df):,}\")"
   ]
  },
  {
   "cell_type": "markdown",
   "id": "7350be55",
   "metadata": {},
   "source": [
    "### Q1.1(2) Replace NAT with values from the date captured column"
   ]
  },
  {
   "cell_type": "code",
   "execution_count": 6,
   "id": "2b67ab0b",
   "metadata": {},
   "outputs": [
    {
     "name": "stdout",
     "output_type": "stream",
     "text": [
      "Q1.1(2) — Filled proxy dates from 'date_captured' for 137,210 rows.\n",
      "After filling, remaining invalid 'date_fueled_clean': 0 rows (0.00%).\n"
     ]
    }
   ],
   "source": [
    "# If 'date_fueled' is invalid and 'date_captured' is valid, use 'date_captured' as a proxy.\n",
    "# We'll create a clean datetime column 'date_fueled_clean' for analysis.\n",
    "\n",
    "df['date_fueled_clean'] = parsed_date_fueled  # start with parsed 'date_fueled'\n",
    "to_fill_mask = (~valid_fueled_mask) & (valid_captured_mask)\n",
    "\n",
    "filled_count = to_fill_mask.sum()\n",
    "df.loc[to_fill_mask, 'date_fueled_clean'] = parsed_date_captured.loc[to_fill_mask]\n",
    "\n",
    "# Report post-fill validity\n",
    "post_valid_mask = df['date_fueled_clean'].notna()\n",
    "post_invalid_count = (~post_valid_mask).sum()\n",
    "post_invalid_pct = (post_invalid_count / len(df)) * 100.0\n",
    "\n",
    "print(f\"Q1.1(2) — Filled proxy dates from 'date_captured' for {filled_count:,} rows.\")\n",
    "print(f\"After filling, remaining invalid 'date_fueled_clean': {post_invalid_count:,} rows ({post_invalid_pct:.2f}%).\")"
   ]
  },
  {
   "cell_type": "markdown",
   "id": "f162a630",
   "metadata": {},
   "source": [
    "### Q1.1(3) Convert the 'date_fueled' column to proper datetime, invalids as NaT\n",
    "\n",
    "- date_fueled_dt has the original dates formatted\n",
    "- date_fueled_clean had the dates with the proxys formatted"
   ]
  },
  {
   "cell_type": "code",
   "execution_count": 7,
   "id": "4f9458ee",
   "metadata": {},
   "outputs": [
    {
     "name": "stdout",
     "output_type": "stream",
     "text": [
      "Q1.1(3) — Converted 'date_fueled' to datetime. Invalid entries set to NaT: 137,210 (11.68%)\n",
      "'date_fueled_clean' updated to datetime. Remaining invalid entries (NaT): 0 (0.0000%).\n"
     ]
    }
   ],
   "source": [
    "\n",
    "df['date_fueled_dt'] = pd.to_datetime(df['date_fueled'], format=\"%b %d %Y\", errors=\"coerce\")\n",
    "\n",
    "# Check how many are NaT\n",
    "invalid_count = df['date_fueled_dt'].isna().sum()\n",
    "invalid_pct = (invalid_count / len(df)) * 100\n",
    "\n",
    "print(f\"Q1.1(3) — Converted 'date_fueled' to datetime. Invalid entries set to NaT: {invalid_count:,} ({invalid_pct:.2f}%)\")\n",
    "\n",
    "# Update 'date_fueled_clean' to ensure it is in datetime format with NaT for invalids.\n",
    "# This column had proxies filled from 'date_captured' earlier.\n",
    "\n",
    "df['date_fueled_clean'] = pd.to_datetime(df['date_fueled_clean'], errors=\"coerce\")\n",
    "\n",
    "# Recheck invalids\n",
    "invalid_count_clean = df['date_fueled_clean'].isna().sum()\n",
    "invalid_pct_clean = (invalid_count_clean / len(df)) * 100\n",
    "\n",
    "print(f\"'date_fueled_clean' updated to datetime. Remaining invalid entries (NaT): {invalid_count_clean:,} ({invalid_pct_clean:.4f}%).\")"
   ]
  },
  {
   "cell_type": "markdown",
   "id": "e82d48c9",
   "metadata": {},
   "source": [
    "### Q1.1(4) Remove dates in the future or earlier than 2005 from 'date_fueled_clean'"
   ]
  },
  {
   "cell_type": "code",
   "execution_count": 8,
   "id": "10a47b44",
   "metadata": {},
   "outputs": [
    {
     "name": "stdout",
     "output_type": "stream",
     "text": [
      "Q1.1(4) — Removed 570 rows with dates outside [2005, today].\n",
      "Remaining rows: 1,174,300 (from 1,174,870).\n"
     ]
    }
   ],
   "source": [
    "\n",
    "# Define valid date range: 2005-01-01 <= date <= today\n",
    "min_date = pd.Timestamp(\"2005-01-01\")\n",
    "max_date = pd.Timestamp.today().normalize()\n",
    "\n",
    "initial_count = len(df)\n",
    "valid_mask = (df['date_fueled_clean'] >= min_date) & (df['date_fueled_clean'] <= max_date)\n",
    "\n",
    "removed_count = (~valid_mask).sum()\n",
    "df = df.loc[valid_mask].copy()\n",
    "final_count = len(df)\n",
    "\n",
    "print(f\"Q1.1(4) — Removed {removed_count:,} rows with dates outside [2005, today].\")\n",
    "print(f\"Remaining rows: {final_count:,} (from {initial_count:,}).\")"
   ]
  },
  {
   "cell_type": "markdown",
   "id": "2b3b138a",
   "metadata": {},
   "source": [
    "### Q1.1(5) Plot the distribution of fueling dates"
   ]
  },
  {
   "cell_type": "code",
   "execution_count": 9,
   "id": "d71789c3",
   "metadata": {},
   "outputs": [
    {
     "data": {
      "image/png": "[encoded data removed]",
      "text/plain": [
       "<Figure size 1200x600 with 1 Axes>"
      ]
     },
     "metadata": {},
     "output_type": "display_data"
    }
   ],
   "source": [
    "plt.figure(figsize=(12,6))\n",
    "df['date_fueled_clean'].hist(bins=100, edgecolor='black')\n",
    "plt.title(\"Distribution of Fueling Dates\", fontsize=16)\n",
    "plt.xlabel(\"Date Fueled\")\n",
    "plt.ylabel(\"Number of Records\")\n",
    "plt.grid(False)\n",
    "plt.tight_layout()\n",
    "plt.show()"
   ]
  },
  {
   "cell_type": "markdown",
   "id": "e4e44c30",
   "metadata": {},
   "source": [
    "## 1.2. Numeric Fields\n",
    "\n",
    "(1) percentage of gallons, miles, and odometer entries are\n",
    "missing."
   ]
  },
  {
   "cell_type": "code",
   "execution_count": 10,
   "id": "e86350c2",
   "metadata": {},
   "outputs": [
    {
     "data": {
      "text/html": [
       "<div>\n",
       "<style scoped>\n",
       "    .dataframe tbody tr th:only-of-type {\n",
       "        vertical-align: middle;\n",
       "    }\n",
       "\n",
       "    .dataframe tbody tr th {\n",
       "        vertical-align: top;\n",
       "    }\n",
       "\n",
       "    .dataframe thead th {\n",
       "        text-align: right;\n",
       "    }\n",
       "</style>\n",
       "<table border=\"1\" class=\"dataframe\">\n",
       "  <thead>\n",
       "    <tr style=\"text-align: right;\">\n",
       "      <th></th>\n",
       "      <th>Missing Count</th>\n",
       "      <th>Missing %</th>\n",
       "    </tr>\n",
       "  </thead>\n",
       "  <tbody>\n",
       "    <tr>\n",
       "      <th>gallons</th>\n",
       "      <td>74171.0</td>\n",
       "      <td>6.316188</td>\n",
       "    </tr>\n",
       "    <tr>\n",
       "      <th>miles</th>\n",
       "      <td>1028143.0</td>\n",
       "      <td>87.553692</td>\n",
       "    </tr>\n",
       "    <tr>\n",
       "      <th>odometer</th>\n",
       "      <td>149037.0</td>\n",
       "      <td>12.691561</td>\n",
       "    </tr>\n",
       "  </tbody>\n",
       "</table>\n",
       "</div>"
      ],
      "text/plain": [
       "          Missing Count  Missing %\n",
       "gallons         74171.0   6.316188\n",
       "miles         1028143.0  87.553692\n",
       "odometer       149037.0  12.691561"
      ]
     },
     "execution_count": 10,
     "metadata": {},
     "output_type": "execute_result"
    }
   ],
   "source": [
    "numeric_cols = ['gallons', 'miles', 'odometer']\n",
    "\n",
    "missing_stats = {}\n",
    "for col in numeric_cols:\n",
    "    missing_count = df[col].isna().sum() + (df[col] == \"\").sum()\n",
    "    missing_pct = (missing_count / len(df)) * 100\n",
    "    missing_stats[col] = (missing_count, missing_pct)\n",
    "\n",
    "missing_stats_df = pd.DataFrame(missing_stats, index=[\"Missing Count\", \"Missing %\"]).T\n",
    "missing_stats_df"
   ]
  },
  {
   "cell_type": "markdown",
   "id": "b8df15c2",
   "metadata": {},
   "source": [
    "### Q1.2(2) Use interdependence between miles, gallons, and mpg to fill missing values.\n",
    "Formula: mpg = miles / gallons"
   ]
  },
  {
   "cell_type": "code",
   "execution_count": 11,
   "id": "00b58065",
   "metadata": {},
   "outputs": [
    {
     "data": {
      "text/plain": [
       "({'gallons': 74171, 'miles': 1028143, 'mpg': 74171},\n",
       " {'gallons': 74171, 'miles': 74171, 'mpg': 74171})"
      ]
     },
     "execution_count": 11,
     "metadata": {},
     "output_type": "execute_result"
    }
   ],
   "source": [
    "#convert columns to numeric (handling commas, etc. will be part of step 1.2(3))\n",
    "def to_numeric(series):\n",
    "    return pd.to_numeric(series.str.replace(\",\", \"\", regex=False), errors=\"coerce\")\n",
    "\n",
    "df['gallons_num'] = to_numeric(df['gallons'])\n",
    "df['miles_num'] = to_numeric(df['miles'])\n",
    "df['mpg_num'] = to_numeric(df['mpg'])\n",
    "\n",
    "# Count missing before filling\n",
    "missing_before = {\n",
    "    'gallons': df['gallons_num'].isna().sum(),\n",
    "    'miles': df['miles_num'].isna().sum(),\n",
    "    'mpg': df['mpg_num'].isna().sum(),\n",
    "}\n",
    "\n",
    "# Fill missing mpg when miles and gallons are available\n",
    "mask = df['mpg_num'].isna() & df['miles_num'].notna() & df['gallons_num'].notna() & (df['gallons_num'] != 0)\n",
    "df.loc[mask, 'mpg_num'] = df.loc[mask, 'miles_num'] / df.loc[mask, 'gallons_num']\n",
    "\n",
    "# Fill missing miles when mpg and gallons are available\n",
    "mask = df['miles_num'].isna() & df['mpg_num'].notna() & df['gallons_num'].notna()\n",
    "df.loc[mask, 'miles_num'] = df.loc[mask, 'mpg_num'] * df.loc[mask, 'gallons_num']\n",
    "\n",
    "# Fill missing gallons when mpg and miles are available\n",
    "mask = df['gallons_num'].isna() & df['mpg_num'].notna() & df['miles_num'].notna() & (df['mpg_num'] != 0)\n",
    "df.loc[mask, 'gallons_num'] = df.loc[mask, 'miles_num'] / df.loc[mask, 'mpg_num']\n",
    "\n",
    "# Count missing after filling\n",
    "missing_after = {\n",
    "    'gallons': df['gallons_num'].isna().sum(),\n",
    "    'miles': df['miles_num'].isna().sum(),\n",
    "    'mpg': df['mpg_num'].isna().sum(),\n",
    "}\n",
    "\n",
    "missing_before, missing_after"
   ]
  },
  {
   "cell_type": "markdown",
   "id": "2b5af7e7",
   "metadata": {},
   "source": [
    "### Q1.2(3) Convert gallons, miles, and odometer to floats"
   ]
  },
  {
   "cell_type": "code",
   "execution_count": 12,
   "id": "2657a9bd",
   "metadata": {},
   "outputs": [
    {
     "data": {
      "text/html": [
       "<div>\n",
       "<style scoped>\n",
       "    .dataframe tbody tr th:only-of-type {\n",
       "        vertical-align: middle;\n",
       "    }\n",
       "\n",
       "    .dataframe tbody tr th {\n",
       "        vertical-align: top;\n",
       "    }\n",
       "\n",
       "    .dataframe thead th {\n",
       "        text-align: right;\n",
       "    }\n",
       "</style>\n",
       "<table border=\"1\" class=\"dataframe\">\n",
       "  <thead>\n",
       "    <tr style=\"text-align: right;\">\n",
       "      <th></th>\n",
       "      <th>count</th>\n",
       "      <th>mean</th>\n",
       "      <th>std</th>\n",
       "      <th>min</th>\n",
       "      <th>25%</th>\n",
       "      <th>50%</th>\n",
       "      <th>75%</th>\n",
       "      <th>max</th>\n",
       "    </tr>\n",
       "  </thead>\n",
       "  <tbody>\n",
       "    <tr>\n",
       "      <th>gallons_clean</th>\n",
       "      <td>1100129.0</td>\n",
       "      <td>12.797430</td>\n",
       "      <td>74.482791</td>\n",
       "      <td>0.0</td>\n",
       "      <td>8.99</td>\n",
       "      <td>11.9540</td>\n",
       "      <td>14.9390</td>\n",
       "      <td>28380.0</td>\n",
       "    </tr>\n",
       "    <tr>\n",
       "      <th>miles_clean</th>\n",
       "      <td>1100129.0</td>\n",
       "      <td>269.453801</td>\n",
       "      <td>725.763437</td>\n",
       "      <td>0.0</td>\n",
       "      <td>181.40</td>\n",
       "      <td>267.0486</td>\n",
       "      <td>342.7641</td>\n",
       "      <td>195321.2</td>\n",
       "    </tr>\n",
       "    <tr>\n",
       "      <th>odometer_clean</th>\n",
       "      <td>1025263.0</td>\n",
       "      <td>104001.086158</td>\n",
       "      <td>340597.635009</td>\n",
       "      <td>0.0</td>\n",
       "      <td>45924.00</td>\n",
       "      <td>91888.0000</td>\n",
       "      <td>146925.5000</td>\n",
       "      <td>254362100.0</td>\n",
       "    </tr>\n",
       "  </tbody>\n",
       "</table>\n",
       "</div>"
      ],
      "text/plain": [
       "                    count           mean            std  min       25%  \\\n",
       "gallons_clean   1100129.0      12.797430      74.482791  0.0      8.99   \n",
       "miles_clean     1100129.0     269.453801     725.763437  0.0    181.40   \n",
       "odometer_clean  1025263.0  104001.086158  340597.635009  0.0  45924.00   \n",
       "\n",
       "                       50%          75%          max  \n",
       "gallons_clean      11.9540      14.9390      28380.0  \n",
       "miles_clean       267.0486     342.7641     195321.2  \n",
       "odometer_clean  91888.0000  146925.5000  254362100.0  "
      ]
     },
     "execution_count": 12,
     "metadata": {},
     "output_type": "execute_result"
    }
   ],
   "source": [
    "\n",
    "def clean_to_float(series):\n",
    "    \"\"\"\n",
    "    Convert string series with commas as thousand separators into floats.\n",
    "    Invalid parsing results in NaN.\n",
    "    \"\"\"\n",
    "    if series.dtype == object or pd.api.types.is_string_dtype(series):\n",
    "        return pd.to_numeric(series.str.replace(\",\", \"\", regex=False), errors=\"coerce\")\n",
    "    else:\n",
    "        return pd.to_numeric(series, errors=\"coerce\")\n",
    "\n",
    "df['gallons_clean'] = clean_to_float(df['gallons_num'])\n",
    "df['miles_clean'] = clean_to_float(df['miles_num'])\n",
    "df['odometer_clean'] = clean_to_float(df['odometer'])\n",
    "df['mpg_clean'] = clean_to_float(df['mpg_num'])\n",
    "\n",
    "# Check some summary statistics to confirm successful conversion\n",
    "df[['gallons_clean', 'miles_clean', 'odometer_clean']].describe().T"
   ]
  },
  {
   "cell_type": "code",
   "execution_count": 13,
   "id": "5eade89f",
   "metadata": {},
   "outputs": [
    {
     "data": {
      "text/html": [
       "<div>\n",
       "<style scoped>\n",
       "    .dataframe tbody tr th:only-of-type {\n",
       "        vertical-align: middle;\n",
       "    }\n",
       "\n",
       "    .dataframe tbody tr th {\n",
       "        vertical-align: top;\n",
       "    }\n",
       "\n",
       "    .dataframe thead th {\n",
       "        text-align: right;\n",
       "    }\n",
       "</style>\n",
       "<table border=\"1\" class=\"dataframe\">\n",
       "  <thead>\n",
       "    <tr style=\"text-align: right;\">\n",
       "      <th></th>\n",
       "      <th>date_fueled</th>\n",
       "      <th>date_captured</th>\n",
       "      <th>odometer</th>\n",
       "      <th>gallons</th>\n",
       "      <th>cost_per_gallon</th>\n",
       "      <th>total_spent</th>\n",
       "      <th>mpg</th>\n",
       "      <th>miles</th>\n",
       "      <th>user_url</th>\n",
       "      <th>date_fueled_clean</th>\n",
       "      <th>date_fueled_dt</th>\n",
       "      <th>gallons_num</th>\n",
       "      <th>miles_num</th>\n",
       "      <th>mpg_num</th>\n",
       "      <th>gallons_clean</th>\n",
       "      <th>miles_clean</th>\n",
       "      <th>odometer_clean</th>\n",
       "      <th>mpg_clean</th>\n",
       "    </tr>\n",
       "  </thead>\n",
       "  <tbody>\n",
       "    <tr>\n",
       "      <th>0</th>\n",
       "      <td>Cooling System, Heating System, Lights, Spark ...</td>\n",
       "      <td>Apr 7 2022</td>\n",
       "      <td>73,370</td>\n",
       "      <td>NaN</td>\n",
       "      <td>NaN</td>\n",
       "      <td>NaN</td>\n",
       "      <td>NaN</td>\n",
       "      <td>NaN</td>\n",
       "      <td>https://www.somewebsite.com/suzuki/swift/2015/...</td>\n",
       "      <td>2022-04-07</td>\n",
       "      <td>NaT</td>\n",
       "      <td>NaN</td>\n",
       "      <td>NaN</td>\n",
       "      <td>NaN</td>\n",
       "      <td>NaN</td>\n",
       "      <td>NaN</td>\n",
       "      <td>73370.0</td>\n",
       "      <td>NaN</td>\n",
       "    </tr>\n",
       "    <tr>\n",
       "      <th>1</th>\n",
       "      <td>Nov 7 2012</td>\n",
       "      <td>Aug 30 2016</td>\n",
       "      <td>11,983</td>\n",
       "      <td>12.120</td>\n",
       "      <td>$5.599</td>\n",
       "      <td>$67.86</td>\n",
       "      <td>31.6</td>\n",
       "      <td>NaN</td>\n",
       "      <td>https://www.somewebsite.com/bmw/x3/2009/461150</td>\n",
       "      <td>2012-11-07</td>\n",
       "      <td>2012-11-07</td>\n",
       "      <td>12.120</td>\n",
       "      <td>382.9920</td>\n",
       "      <td>31.6</td>\n",
       "      <td>12.120</td>\n",
       "      <td>382.9920</td>\n",
       "      <td>11983.0</td>\n",
       "      <td>31.6</td>\n",
       "    </tr>\n",
       "    <tr>\n",
       "      <th>2</th>\n",
       "      <td>Sep 22 2012</td>\n",
       "      <td>Sep 28 2012</td>\n",
       "      <td>98,233</td>\n",
       "      <td>7.991</td>\n",
       "      <td>£5.45</td>\n",
       "      <td>£43.53</td>\n",
       "      <td>28.5</td>\n",
       "      <td>NaN</td>\n",
       "      <td>https://www.somewebsite.com/mercedes-benz/e300...</td>\n",
       "      <td>2012-09-22</td>\n",
       "      <td>2012-09-22</td>\n",
       "      <td>7.991</td>\n",
       "      <td>227.7435</td>\n",
       "      <td>28.5</td>\n",
       "      <td>7.991</td>\n",
       "      <td>227.7435</td>\n",
       "      <td>98233.0</td>\n",
       "      <td>28.5</td>\n",
       "    </tr>\n",
       "    <tr>\n",
       "      <th>3</th>\n",
       "      <td>May 4 2019</td>\n",
       "      <td>May 4 2019</td>\n",
       "      <td>163,802</td>\n",
       "      <td>10.575</td>\n",
       "      <td>£5.11</td>\n",
       "      <td>£54.00</td>\n",
       "      <td>46.8</td>\n",
       "      <td>NaN</td>\n",
       "      <td>https://www.somewebsite.com/bmw/320d/2010/247233</td>\n",
       "      <td>2019-05-04</td>\n",
       "      <td>2019-05-04</td>\n",
       "      <td>10.575</td>\n",
       "      <td>494.9100</td>\n",
       "      <td>46.8</td>\n",
       "      <td>10.575</td>\n",
       "      <td>494.9100</td>\n",
       "      <td>163802.0</td>\n",
       "      <td>46.8</td>\n",
       "    </tr>\n",
       "    <tr>\n",
       "      <th>4</th>\n",
       "      <td>Feb 15 2022</td>\n",
       "      <td>Feb 15 2022</td>\n",
       "      <td>NaN</td>\n",
       "      <td>11.651</td>\n",
       "      <td>$3.029</td>\n",
       "      <td>$35.29</td>\n",
       "      <td>21.0</td>\n",
       "      <td>244.4</td>\n",
       "      <td>https://www.somewebsite.com/honda/passport/201...</td>\n",
       "      <td>2022-02-15</td>\n",
       "      <td>2022-02-15</td>\n",
       "      <td>11.651</td>\n",
       "      <td>244.4000</td>\n",
       "      <td>21.0</td>\n",
       "      <td>11.651</td>\n",
       "      <td>244.4000</td>\n",
       "      <td>NaN</td>\n",
       "      <td>21.0</td>\n",
       "    </tr>\n",
       "    <tr>\n",
       "      <th>...</th>\n",
       "      <td>...</td>\n",
       "      <td>...</td>\n",
       "      <td>...</td>\n",
       "      <td>...</td>\n",
       "      <td>...</td>\n",
       "      <td>...</td>\n",
       "      <td>...</td>\n",
       "      <td>...</td>\n",
       "      <td>...</td>\n",
       "      <td>...</td>\n",
       "      <td>...</td>\n",
       "      <td>...</td>\n",
       "      <td>...</td>\n",
       "      <td>...</td>\n",
       "      <td>...</td>\n",
       "      <td>...</td>\n",
       "      <td>...</td>\n",
       "      <td>...</td>\n",
       "    </tr>\n",
       "    <tr>\n",
       "      <th>1174865</th>\n",
       "      <td>Feb 19 2020</td>\n",
       "      <td>Feb 19 2020</td>\n",
       "      <td>118,237</td>\n",
       "      <td>13.046</td>\n",
       "      <td>$1.999</td>\n",
       "      <td>$26.08</td>\n",
       "      <td>25.7</td>\n",
       "      <td>NaN</td>\n",
       "      <td>https://www.somewebsite.com/volkswagen/beetle/...</td>\n",
       "      <td>2020-02-19</td>\n",
       "      <td>2020-02-19</td>\n",
       "      <td>13.046</td>\n",
       "      <td>335.2822</td>\n",
       "      <td>25.7</td>\n",
       "      <td>13.046</td>\n",
       "      <td>335.2822</td>\n",
       "      <td>118237.0</td>\n",
       "      <td>25.7</td>\n",
       "    </tr>\n",
       "    <tr>\n",
       "      <th>1174866</th>\n",
       "      <td>Dec 6 2019</td>\n",
       "      <td>Dec 6 2019</td>\n",
       "      <td>141,761</td>\n",
       "      <td>12.637</td>\n",
       "      <td>$2.449</td>\n",
       "      <td>$30.95</td>\n",
       "      <td>20.0</td>\n",
       "      <td>NaN</td>\n",
       "      <td>https://www.somewebsite.com/toyota/avalon/2000...</td>\n",
       "      <td>2019-12-06</td>\n",
       "      <td>2019-12-06</td>\n",
       "      <td>12.637</td>\n",
       "      <td>252.7400</td>\n",
       "      <td>20.0</td>\n",
       "      <td>12.637</td>\n",
       "      <td>252.7400</td>\n",
       "      <td>141761.0</td>\n",
       "      <td>20.0</td>\n",
       "    </tr>\n",
       "    <tr>\n",
       "      <th>1174867</th>\n",
       "      <td>Oct 4 2021</td>\n",
       "      <td>Oct 4 2021</td>\n",
       "      <td>65,029</td>\n",
       "      <td>10.002</td>\n",
       "      <td>$3.449</td>\n",
       "      <td>$34.50</td>\n",
       "      <td>28.5</td>\n",
       "      <td>NaN</td>\n",
       "      <td>https://www.somewebsite.com/fiat/500/2013/909694</td>\n",
       "      <td>2021-10-04</td>\n",
       "      <td>2021-10-04</td>\n",
       "      <td>10.002</td>\n",
       "      <td>285.0570</td>\n",
       "      <td>28.5</td>\n",
       "      <td>10.002</td>\n",
       "      <td>285.0570</td>\n",
       "      <td>65029.0</td>\n",
       "      <td>28.5</td>\n",
       "    </tr>\n",
       "    <tr>\n",
       "      <th>1174868</th>\n",
       "      <td>Jul 26 2021</td>\n",
       "      <td>Jul 26 2021</td>\n",
       "      <td>15,255</td>\n",
       "      <td>10.493</td>\n",
       "      <td>$3.539</td>\n",
       "      <td>$37.13</td>\n",
       "      <td>36.5</td>\n",
       "      <td>NaN</td>\n",
       "      <td>https://www.somewebsite.com/mini/cooper/2019/9...</td>\n",
       "      <td>2021-07-26</td>\n",
       "      <td>2021-07-26</td>\n",
       "      <td>10.493</td>\n",
       "      <td>382.9945</td>\n",
       "      <td>36.5</td>\n",
       "      <td>10.493</td>\n",
       "      <td>382.9945</td>\n",
       "      <td>15255.0</td>\n",
       "      <td>36.5</td>\n",
       "    </tr>\n",
       "    <tr>\n",
       "      <th>1174869</th>\n",
       "      <td>Mar 12 2019</td>\n",
       "      <td>Mar 12 2019</td>\n",
       "      <td>204,774</td>\n",
       "      <td>17.350</td>\n",
       "      <td>$3.199</td>\n",
       "      <td>$55.50</td>\n",
       "      <td>0.0</td>\n",
       "      <td>NaN</td>\n",
       "      <td>https://www.somewebsite.com/lexus/lx470/2001/8...</td>\n",
       "      <td>2019-03-12</td>\n",
       "      <td>2019-03-12</td>\n",
       "      <td>17.350</td>\n",
       "      <td>0.0000</td>\n",
       "      <td>0.0</td>\n",
       "      <td>17.350</td>\n",
       "      <td>0.0000</td>\n",
       "      <td>204774.0</td>\n",
       "      <td>0.0</td>\n",
       "    </tr>\n",
       "  </tbody>\n",
       "</table>\n",
       "<p>1174300 rows × 18 columns</p>\n",
       "</div>"
      ],
      "text/plain": [
       "                                               date_fueled date_captured  \\\n",
       "0        Cooling System, Heating System, Lights, Spark ...    Apr 7 2022   \n",
       "1                                               Nov 7 2012   Aug 30 2016   \n",
       "2                                              Sep 22 2012   Sep 28 2012   \n",
       "3                                               May 4 2019    May 4 2019   \n",
       "4                                              Feb 15 2022   Feb 15 2022   \n",
       "...                                                    ...           ...   \n",
       "1174865                                        Feb 19 2020   Feb 19 2020   \n",
       "1174866                                         Dec 6 2019    Dec 6 2019   \n",
       "1174867                                         Oct 4 2021    Oct 4 2021   \n",
       "1174868                                        Jul 26 2021   Jul 26 2021   \n",
       "1174869                                        Mar 12 2019   Mar 12 2019   \n",
       "\n",
       "         odometer gallons cost_per_gallon total_spent   mpg    miles  \\\n",
       "0         73,370      NaN             NaN         NaN   NaN      NaN   \n",
       "1         11,983   12.120          $5.599      $67.86  31.6      NaN   \n",
       "2         98,233    7.991           £5.45      £43.53  28.5      NaN   \n",
       "3        163,802   10.575           £5.11      £54.00  46.8      NaN   \n",
       "4             NaN  11.651          $3.029      $35.29  21.0   244.4    \n",
       "...           ...     ...             ...         ...   ...      ...   \n",
       "1174865  118,237   13.046          $1.999      $26.08  25.7      NaN   \n",
       "1174866  141,761   12.637          $2.449      $30.95  20.0      NaN   \n",
       "1174867   65,029   10.002          $3.449      $34.50  28.5      NaN   \n",
       "1174868   15,255   10.493          $3.539      $37.13  36.5      NaN   \n",
       "1174869  204,774   17.350          $3.199      $55.50   0.0      NaN   \n",
       "\n",
       "                                                  user_url date_fueled_clean  \\\n",
       "0        https://www.somewebsite.com/suzuki/swift/2015/...        2022-04-07   \n",
       "1           https://www.somewebsite.com/bmw/x3/2009/461150        2012-11-07   \n",
       "2        https://www.somewebsite.com/mercedes-benz/e300...        2012-09-22   \n",
       "3         https://www.somewebsite.com/bmw/320d/2010/247233        2019-05-04   \n",
       "4        https://www.somewebsite.com/honda/passport/201...        2022-02-15   \n",
       "...                                                    ...               ...   \n",
       "1174865  https://www.somewebsite.com/volkswagen/beetle/...        2020-02-19   \n",
       "1174866  https://www.somewebsite.com/toyota/avalon/2000...        2019-12-06   \n",
       "1174867   https://www.somewebsite.com/fiat/500/2013/909694        2021-10-04   \n",
       "1174868  https://www.somewebsite.com/mini/cooper/2019/9...        2021-07-26   \n",
       "1174869  https://www.somewebsite.com/lexus/lx470/2001/8...        2019-03-12   \n",
       "\n",
       "        date_fueled_dt  gallons_num  miles_num  mpg_num  gallons_clean  \\\n",
       "0                  NaT          NaN        NaN      NaN            NaN   \n",
       "1           2012-11-07       12.120   382.9920     31.6         12.120   \n",
       "2           2012-09-22        7.991   227.7435     28.5          7.991   \n",
       "3           2019-05-04       10.575   494.9100     46.8         10.575   \n",
       "4           2022-02-15       11.651   244.4000     21.0         11.651   \n",
       "...                ...          ...        ...      ...            ...   \n",
       "1174865     2020-02-19       13.046   335.2822     25.7         13.046   \n",
       "1174866     2019-12-06       12.637   252.7400     20.0         12.637   \n",
       "1174867     2021-10-04       10.002   285.0570     28.5         10.002   \n",
       "1174868     2021-07-26       10.493   382.9945     36.5         10.493   \n",
       "1174869     2019-03-12       17.350     0.0000      0.0         17.350   \n",
       "\n",
       "         miles_clean  odometer_clean  mpg_clean  \n",
       "0                NaN         73370.0        NaN  \n",
       "1           382.9920         11983.0       31.6  \n",
       "2           227.7435         98233.0       28.5  \n",
       "3           494.9100        163802.0       46.8  \n",
       "4           244.4000             NaN       21.0  \n",
       "...              ...             ...        ...  \n",
       "1174865     335.2822        118237.0       25.7  \n",
       "1174866     252.7400        141761.0       20.0  \n",
       "1174867     285.0570         65029.0       28.5  \n",
       "1174868     382.9945         15255.0       36.5  \n",
       "1174869       0.0000        204774.0        0.0  \n",
       "\n",
       "[1174300 rows x 18 columns]"
      ]
     },
     "execution_count": 13,
     "metadata": {},
     "output_type": "execute_result"
    }
   ],
   "source": [
    "df"
   ]
  },
  {
   "cell_type": "code",
   "execution_count": 14,
   "id": "bb29a1a8",
   "metadata": {},
   "outputs": [
    {
     "data": {
      "text/html": [
       "<div>\n",
       "<style scoped>\n",
       "    .dataframe tbody tr th:only-of-type {\n",
       "        vertical-align: middle;\n",
       "    }\n",
       "\n",
       "    .dataframe tbody tr th {\n",
       "        vertical-align: top;\n",
       "    }\n",
       "\n",
       "    .dataframe thead th {\n",
       "        text-align: right;\n",
       "    }\n",
       "</style>\n",
       "<table border=\"1\" class=\"dataframe\">\n",
       "  <thead>\n",
       "    <tr style=\"text-align: right;\">\n",
       "      <th></th>\n",
       "      <th>gallons_clean</th>\n",
       "      <th>miles_clean</th>\n",
       "      <th>odometer_clean</th>\n",
       "      <th>mpg_clean</th>\n",
       "    </tr>\n",
       "  </thead>\n",
       "  <tbody>\n",
       "    <tr>\n",
       "      <th>150534</th>\n",
       "      <td>7.843</td>\n",
       "      <td>185.8791</td>\n",
       "      <td>132898.0</td>\n",
       "      <td>23.7</td>\n",
       "    </tr>\n",
       "    <tr>\n",
       "      <th>1136282</th>\n",
       "      <td>10.000</td>\n",
       "      <td>180.0000</td>\n",
       "      <td>NaN</td>\n",
       "      <td>0.0</td>\n",
       "    </tr>\n",
       "    <tr>\n",
       "      <th>629193</th>\n",
       "      <td>6.678</td>\n",
       "      <td>0.0000</td>\n",
       "      <td>80806.0</td>\n",
       "      <td>0.0</td>\n",
       "    </tr>\n",
       "    <tr>\n",
       "      <th>510714</th>\n",
       "      <td>8.728</td>\n",
       "      <td>278.4232</td>\n",
       "      <td>167526.0</td>\n",
       "      <td>31.9</td>\n",
       "    </tr>\n",
       "    <tr>\n",
       "      <th>775089</th>\n",
       "      <td>8.266</td>\n",
       "      <td>275.2578</td>\n",
       "      <td>42685.0</td>\n",
       "      <td>33.3</td>\n",
       "    </tr>\n",
       "    <tr>\n",
       "      <th>545838</th>\n",
       "      <td>8.998</td>\n",
       "      <td>205.1544</td>\n",
       "      <td>32496.0</td>\n",
       "      <td>22.8</td>\n",
       "    </tr>\n",
       "    <tr>\n",
       "      <th>205335</th>\n",
       "      <td>14.207</td>\n",
       "      <td>206.0015</td>\n",
       "      <td>63530.0</td>\n",
       "      <td>14.5</td>\n",
       "    </tr>\n",
       "    <tr>\n",
       "      <th>1107084</th>\n",
       "      <td>12.356</td>\n",
       "      <td>358.3240</td>\n",
       "      <td>133887.0</td>\n",
       "      <td>29.0</td>\n",
       "    </tr>\n",
       "    <tr>\n",
       "      <th>797948</th>\n",
       "      <td>4.751</td>\n",
       "      <td>126.3766</td>\n",
       "      <td>63372.0</td>\n",
       "      <td>26.6</td>\n",
       "    </tr>\n",
       "    <tr>\n",
       "      <th>624190</th>\n",
       "      <td>6.340</td>\n",
       "      <td>124.2640</td>\n",
       "      <td>16808.0</td>\n",
       "      <td>19.6</td>\n",
       "    </tr>\n",
       "    <tr>\n",
       "      <th>160123</th>\n",
       "      <td>12.031</td>\n",
       "      <td>270.6975</td>\n",
       "      <td>92902.0</td>\n",
       "      <td>22.5</td>\n",
       "    </tr>\n",
       "    <tr>\n",
       "      <th>511487</th>\n",
       "      <td>16.300</td>\n",
       "      <td>249.0000</td>\n",
       "      <td>NaN</td>\n",
       "      <td>15.3</td>\n",
       "    </tr>\n",
       "    <tr>\n",
       "      <th>593354</th>\n",
       "      <td>14.287</td>\n",
       "      <td>450.0405</td>\n",
       "      <td>86997.0</td>\n",
       "      <td>31.5</td>\n",
       "    </tr>\n",
       "    <tr>\n",
       "      <th>649896</th>\n",
       "      <td>2.407</td>\n",
       "      <td>68.8000</td>\n",
       "      <td>NaN</td>\n",
       "      <td>28.6</td>\n",
       "    </tr>\n",
       "    <tr>\n",
       "      <th>518983</th>\n",
       "      <td>16.040</td>\n",
       "      <td>288.5000</td>\n",
       "      <td>NaN</td>\n",
       "      <td>18.0</td>\n",
       "    </tr>\n",
       "    <tr>\n",
       "      <th>835976</th>\n",
       "      <td>NaN</td>\n",
       "      <td>NaN</td>\n",
       "      <td>42203.0</td>\n",
       "      <td>NaN</td>\n",
       "    </tr>\n",
       "    <tr>\n",
       "      <th>530761</th>\n",
       "      <td>4.517</td>\n",
       "      <td>104.7944</td>\n",
       "      <td>70698.0</td>\n",
       "      <td>23.2</td>\n",
       "    </tr>\n",
       "    <tr>\n",
       "      <th>1145244</th>\n",
       "      <td>20.053</td>\n",
       "      <td>332.8798</td>\n",
       "      <td>123348.0</td>\n",
       "      <td>16.6</td>\n",
       "    </tr>\n",
       "    <tr>\n",
       "      <th>1094994</th>\n",
       "      <td>9.781</td>\n",
       "      <td>386.3495</td>\n",
       "      <td>64823.0</td>\n",
       "      <td>39.5</td>\n",
       "    </tr>\n",
       "    <tr>\n",
       "      <th>245735</th>\n",
       "      <td>14.794</td>\n",
       "      <td>482.2844</td>\n",
       "      <td>98018.0</td>\n",
       "      <td>32.6</td>\n",
       "    </tr>\n",
       "  </tbody>\n",
       "</table>\n",
       "</div>"
      ],
      "text/plain": [
       "         gallons_clean  miles_clean  odometer_clean  mpg_clean\n",
       "150534           7.843     185.8791        132898.0       23.7\n",
       "1136282         10.000     180.0000             NaN        0.0\n",
       "629193           6.678       0.0000         80806.0        0.0\n",
       "510714           8.728     278.4232        167526.0       31.9\n",
       "775089           8.266     275.2578         42685.0       33.3\n",
       "545838           8.998     205.1544         32496.0       22.8\n",
       "205335          14.207     206.0015         63530.0       14.5\n",
       "1107084         12.356     358.3240        133887.0       29.0\n",
       "797948           4.751     126.3766         63372.0       26.6\n",
       "624190           6.340     124.2640         16808.0       19.6\n",
       "160123          12.031     270.6975         92902.0       22.5\n",
       "511487          16.300     249.0000             NaN       15.3\n",
       "593354          14.287     450.0405         86997.0       31.5\n",
       "649896           2.407      68.8000             NaN       28.6\n",
       "518983          16.040     288.5000             NaN       18.0\n",
       "835976             NaN          NaN         42203.0        NaN\n",
       "530761           4.517     104.7944         70698.0       23.2\n",
       "1145244         20.053     332.8798        123348.0       16.6\n",
       "1094994          9.781     386.3495         64823.0       39.5\n",
       "245735          14.794     482.2844         98018.0       32.6"
      ]
     },
     "execution_count": 14,
     "metadata": {},
     "output_type": "execute_result"
    }
   ],
   "source": [
    "# Print random samples of the numeric fields to inspect values\n",
    "sample_data = df[['gallons_clean', 'miles_clean', 'odometer_clean', 'mpg_clean']].sample(20, random_state=42)\n",
    "sample_data"
   ]
  },
  {
   "cell_type": "markdown",
   "id": "7d3511d2",
   "metadata": {},
   "source": [
    "### 4.\n",
    "\n",
    "#### Miles\n",
    "- Likely right skewed because most trips are short, but some very long trips create a heavy tail.\n",
    "\n",
    "#### Gallons\n",
    "- Also right skewed as most fuel ups are small to moderate, with a few large refuels.\n",
    "\n",
    "#### MPG\n",
    "- Miles per Gallon, clusters around a central value."
   ]
  },
  {
   "cell_type": "code",
   "execution_count": 15,
   "id": "3055b7e1",
   "metadata": {},
   "outputs": [
    {
     "data": {
      "image/png": "[encoded data removed]",
      "text/plain": [
       "<Figure size 1800x500 with 3 Axes>"
      ]
     },
     "metadata": {},
     "output_type": "display_data"
    }
   ],
   "source": [
    "fig, axes = plt.subplots(1, 3, figsize=(18, 5))\n",
    "\n",
    "# Miles Distribution\n",
    "df[\"miles_num\"].dropna().hist(bins=200, ax=axes[0])\n",
    "axes[0].set_title(\"Miles Distribution\")\n",
    "axes[0].set_xlabel(\"Miles\")\n",
    "axes[0].set_ylabel(\"Frequency\")\n",
    "axes[0].set_xlim(0, 200000)\n",
    "axes[0].set_yscale(\"log\") \n",
    "\n",
    "# Gallons Distribution\n",
    "df[\"gallons_num\"].dropna().hist(bins=100, ax=axes[1])\n",
    "axes[1].set_title(\"Gallons Distribution\")\n",
    "axes[1].set_xlabel(\"Gallons\")\n",
    "axes[1].set_xlim(0, 30000)\n",
    "axes[1].set_yscale(\"log\") \n",
    "\n",
    "# MPG Distribution\n",
    "df[\"mpg_clean\"].dropna().hist(bins=100, ax=axes[2])\n",
    "axes[2].set_title(\"MPG Distribution\")\n",
    "axes[2].set_xlabel(\"MPG\")\n",
    "axes[2].set_xlim(0, 1500)\n",
    "axes[2].set_yscale(\"log\")\n",
    "\n",
    "plt.tight_layout()\n",
    "plt.show()\n"
   ]
  },
  {
   "cell_type": "markdown",
   "id": "441ac537",
   "metadata": {},
   "source": [
    "### 5. Mean, standard deviation, max, min, most frequent and quartiles."
   ]
  },
  {
   "cell_type": "code",
   "execution_count": 16,
   "id": "c91bae96",
   "metadata": {},
   "outputs": [
    {
     "data": {
      "text/html": [
       "<div>\n",
       "<style scoped>\n",
       "    .dataframe tbody tr th:only-of-type {\n",
       "        vertical-align: middle;\n",
       "    }\n",
       "\n",
       "    .dataframe tbody tr th {\n",
       "        vertical-align: top;\n",
       "    }\n",
       "\n",
       "    .dataframe thead th {\n",
       "        text-align: right;\n",
       "    }\n",
       "</style>\n",
       "<table border=\"1\" class=\"dataframe\">\n",
       "  <thead>\n",
       "    <tr style=\"text-align: right;\">\n",
       "      <th></th>\n",
       "      <th>count</th>\n",
       "      <th>mean</th>\n",
       "      <th>std</th>\n",
       "      <th>min</th>\n",
       "      <th>25%</th>\n",
       "      <th>50%</th>\n",
       "      <th>75%</th>\n",
       "      <th>max</th>\n",
       "      <th>mode</th>\n",
       "    </tr>\n",
       "  </thead>\n",
       "  <tbody>\n",
       "    <tr>\n",
       "      <th>miles_clean</th>\n",
       "      <td>1100129.0</td>\n",
       "      <td>269.453801</td>\n",
       "      <td>725.763437</td>\n",
       "      <td>0.0</td>\n",
       "      <td>181.40</td>\n",
       "      <td>267.0486</td>\n",
       "      <td>342.7641</td>\n",
       "      <td>195321.2</td>\n",
       "      <td>0.000</td>\n",
       "    </tr>\n",
       "    <tr>\n",
       "      <th>gallons_clean</th>\n",
       "      <td>1100129.0</td>\n",
       "      <td>12.797430</td>\n",
       "      <td>74.482791</td>\n",
       "      <td>0.0</td>\n",
       "      <td>8.99</td>\n",
       "      <td>11.9540</td>\n",
       "      <td>14.9390</td>\n",
       "      <td>28380.0</td>\n",
       "      <td>10.567</td>\n",
       "    </tr>\n",
       "    <tr>\n",
       "      <th>mpg_clean</th>\n",
       "      <td>1100129.0</td>\n",
       "      <td>22.163025</td>\n",
       "      <td>15.744350</td>\n",
       "      <td>0.0</td>\n",
       "      <td>15.60</td>\n",
       "      <td>21.8000</td>\n",
       "      <td>28.5000</td>\n",
       "      <td>1214.3</td>\n",
       "      <td>0.000</td>\n",
       "    </tr>\n",
       "  </tbody>\n",
       "</table>\n",
       "</div>"
      ],
      "text/plain": [
       "                   count        mean         std  min     25%       50%  \\\n",
       "miles_clean    1100129.0  269.453801  725.763437  0.0  181.40  267.0486   \n",
       "gallons_clean  1100129.0   12.797430   74.482791  0.0    8.99   11.9540   \n",
       "mpg_clean      1100129.0   22.163025   15.744350  0.0   15.60   21.8000   \n",
       "\n",
       "                    75%       max    mode  \n",
       "miles_clean    342.7641  195321.2   0.000  \n",
       "gallons_clean   14.9390   28380.0  10.567  \n",
       "mpg_clean       28.5000    1214.3   0.000  "
      ]
     },
     "execution_count": 16,
     "metadata": {},
     "output_type": "execute_result"
    }
   ],
   "source": [
    "stats = df[[\"miles_clean\", \"gallons_clean\", \"mpg_clean\"]].describe(include=\"all\").T\n",
    "\n",
    "stats[\"mode\"] = df[[\"miles_clean\", \"gallons_clean\", \"mpg_clean\"]].mode().iloc[0]\n",
    "\n",
    "stats"
   ]
  },
  {
   "cell_type": "markdown",
   "id": "25bc7c95",
   "metadata": {},
   "source": [
    "## Question 2\n",
    "\n",
    "### 2.1"
   ]
  },
  {
   "cell_type": "code",
   "execution_count": 17,
   "id": "bb4c7be2",
   "metadata": {},
   "outputs": [
    {
     "name": "stdout",
     "output_type": "stream",
     "text": [
      "  cost_per_gallon currency\n",
      "0             NaN     None\n",
      "1          $5.599      USD\n",
      "2           £5.45      GBP\n",
      "3           £5.11      GBP\n",
      "4          $3.029      USD\n",
      "5          $3.739      USD\n",
      "6          $4.639      USD\n",
      "7          $2.929      USD\n",
      "8             NaN     None\n",
      "9          $1.999      USD\n"
     ]
    }
   ],
   "source": [
    "# Extract currency from cost_per_gallon\n",
    "def extract_currency(value):\n",
    "    if pd.isna(value):\n",
    "        return None\n",
    "    v = str(value)\n",
    "\n",
    "    if \"AU$\" in v:\n",
    "        return \"AUD\"\n",
    "    elif \"NZ$\" in v:\n",
    "        return \"NZD\"\n",
    "    elif \"CA$\" in v:\n",
    "        return \"CAD\"\n",
    "    elif \"HK$\" in v:\n",
    "        return \"HKD\"\n",
    "    elif \"NT$\" in v:\n",
    "        return \"TWD\"\n",
    "    elif \"US$\" in v or \"$U\" in v or \"MXN\" in v or \"CO$\" in v or \"CL$\" in v or \"EC$\" in v or \"RD$\" in v or \"J$\" in v or \"GY$\" in v or \"BZ$\" in v or \"Bds$\" in v or \"TT$\" in v or \"KY$\" in v or \"CU$\" in v or \"BS$\" in v:\n",
    "        return \"USD\"  \n",
    "    elif \"$\" in v:\n",
    "        return \"USD\"\n",
    "    elif \"€\" in v:\n",
    "        return \"EUR\"\n",
    "    elif \"£\" in v or \"LB£\" in v or \"SH£\" in v or \"SY£\" in v:\n",
    "        return \"GBP\"\n",
    "    elif \"Fr.\" in v or \"Fr\" in v or \"FCFA\" in v or \"CFA\" in v or \"CFPF\" in v:\n",
    "        return \"CHF\"\n",
    "    elif \"¥\" in v or \"CN¥\" in v:\n",
    "        return \"CNY\"\n",
    "    elif \"₩\" in v:\n",
    "        return \"KRW\"\n",
    "    elif \"₱\" in v:\n",
    "        return \"PHP\"\n",
    "    elif \"₹\" in v or \"Rs\" in v or \"PKRs\" in v or \"NPRs\" in v:\n",
    "        return \"INR\"\n",
    "    elif \"R$\" in v:\n",
    "        return \"BRL\"\n",
    "    elif \"₽\" in v or \"RUB\" in v:\n",
    "        return \"RUB\"\n",
    "    elif \"₪\" in v:\n",
    "        return \"ILS\"\n",
    "    elif \"₦\" in v:\n",
    "        return \"NGN\"\n",
    "    elif \"₫\" in v:\n",
    "        return \"VND\"\n",
    "    elif \"฿\" in v:\n",
    "        return \"THB\"\n",
    "    elif \"₴\" in v:\n",
    "        return \"UAH\"\n",
    "    elif \"₡\" in v:\n",
    "        return \"CRC\"\n",
    "    elif \"GH₵\" in v:\n",
    "        return \"GHS\"\n",
    "    elif \"₮\" in v:\n",
    "        return \"MNT\"\n",
    "    elif \"₲\" in v:\n",
    "        return \"PYG\"\n",
    "    elif \"Br\" in v:\n",
    "        return \"ETB\"\n",
    "    elif \"zł\" in v:\n",
    "        return \"PLN\"\n",
    "    elif \"Ft\" in v:\n",
    "        return \"HUF\"\n",
    "    elif \"Kč\" in v:\n",
    "        return \"CZK\"\n",
    "    elif \"kr\" in v or \"Skr\" in v or \"Nkr\" in v or \"Ikr\" in v or \"DKr\" in v:\n",
    "        return \"SEK\"\n",
    "    elif \"AED\" in v:\n",
    "        return \"AED\"\n",
    "    elif \"MAD\" in v:\n",
    "        return \"MAD\"\n",
    "    elif \"KZT\" in v:\n",
    "        return \"KZT\"\n",
    "    elif \"OMR\" in v:\n",
    "        return \"OMR\"\n",
    "    elif \"QAR\" in v or \"QR\" in v:\n",
    "        return \"QAR\"\n",
    "    elif \"TSh\" in v:\n",
    "        return \"TZS\"\n",
    "    elif \"USh\" in v:\n",
    "        return \"UGX\"\n",
    "    elif \"ZWL\" in v:\n",
    "        return \"ZWL\"\n",
    "    elif \"R\" in v or \"ZAR\" in v:\n",
    "        return \"ZAR\"\n",
    "    else:\n",
    "        return \"NONE\"\n",
    "\n",
    "df[\"currency\"] = df[\"cost_per_gallon\"].apply(extract_currency)\n",
    "\n",
    "print(df[[\"cost_per_gallon\", \"currency\"]].head(10))"
   ]
  },
  {
   "cell_type": "markdown",
   "id": "c1dd8af6",
   "metadata": {},
   "source": [
    "### 2.  Create a new column containing the float value of the total spend and the cost per gallon."
   ]
  },
  {
   "cell_type": "code",
   "execution_count": 18,
   "id": "e2c5fc41",
   "metadata": {},
   "outputs": [
    {
     "name": "stdout",
     "output_type": "stream",
     "text": [
      "         total_spent_float  cost_per_gallon_float\n",
      "0                      NaN                    NaN\n",
      "1                    67.86                  5.599\n",
      "2                    43.53                  5.450\n",
      "3                    54.00                  5.110\n",
      "4                    35.29                  3.029\n",
      "...                    ...                    ...\n",
      "1174865              26.08                  1.999\n",
      "1174866              30.95                  2.449\n",
      "1174867              34.50                  3.449\n",
      "1174868              37.13                  3.539\n",
      "1174869              55.50                  3.199\n",
      "\n",
      "[1174300 rows x 2 columns]\n"
     ]
    }
   ],
   "source": [
    "# List of currency symbols\n",
    "currency_symbols = [\n",
    "    '$', '£', 'RON', '€', 'zł', 'AU$', '₩', 'Ft', 'NZ$', 'Nkr', 'R$', 'CA$', 'RUB', '₪',\n",
    "    'Rp', 'RM', 'R', 'Skr', 'AR$', 'TL', 'din', 'Ikr', '฿', 'CN¥', 'HK$', 'Dkr', '₡', '₴',\n",
    "    'IRR', 'S$', 'Rs', 'BGN', '¥', 'AED', 'MKD', '₱', 'BD', 'CL$', 'EC$', '$U', 'LE',\n",
    "    'MXN', 'CO$', 'CFPF', 'Kč', 'kn', 'JD', 'FCFA', 'NT$', 'BN$', 'RD$', 'S/', 'J$',\n",
    "    'PKRs', 'Ksh', 'GY$', 'KM', 'Fr', 'CFA', 'MDL', 'MMK', 'N$', '₦', 'ZWL', 'USh',\n",
    "    'MURs', 'BYN', 'TT$', 'KD', 'B/', 'Bs', 'SLRs', 'SR', 'GTQ', 'QR', 'Br', 'C$', 'BWP',\n",
    "    'GH₵', 'Tk', 'SR$', 'man', 'KHR', 'BZ$', 'Bds$', 'Kz', 'NPRs', 'OMR', '₲', 'LB£',\n",
    "    'HNL', 'AMD', 'GEL', '₮', 'MTn', 'ZMW', 'SH£', '₫', 'RWF', 'MGA', 'DT', 'VT', 'MOP$',\n",
    "    'TMT', 'SY£', 'BS$', 'Af', 'ALL', 'DA', 'TSh', 'KY$', 'NAf', 'KZT', 'YR', 'MAD',\n",
    "    'CV$', 'IQD', 'CU$', 'KGS', 'L$'\n",
    "]\n",
    "\n",
    "# Compile regex pattern for all symbols\n",
    "pattern = '|'.join(re.escape(symbol) for symbol in currency_symbols)\n",
    "\n",
    "# Function to convert currency string to float\n",
    "def parse_currency(value):\n",
    "    if pd.isna(value):\n",
    "        return None\n",
    "    \n",
    "    # Remove all currency symbols\n",
    "    value = re.sub(pattern, '', value)\n",
    "    \n",
    "    # Replace comma with dot for decimals\n",
    "    value = value.replace(',', '.')\n",
    "    try:\n",
    "        return float(value)\n",
    "    except ValueError:\n",
    "        return None\n",
    "\n",
    "df[\"total_spent_float\"] = df[\"total_spent\"].apply(parse_currency)\n",
    "df[\"cost_per_gallon_float\"] = df[\"cost_per_gallon\"].apply(parse_currency)\n",
    "\n",
    "print(df[[\"total_spent_float\", \"cost_per_gallon_float\"]])"
   ]
  },
  {
   "cell_type": "markdown",
   "id": "4cd42349",
   "metadata": {},
   "source": [
    "### 3. Car make, model, year, user ID."
   ]
  },
  {
   "cell_type": "code",
   "execution_count": 19,
   "id": "62e189d4",
   "metadata": {},
   "outputs": [
    {
     "name": "stdout",
     "output_type": "stream",
     "text": [
      "              car_make car_model car_year  user_id\n",
      "0               suzuki     swift     2015   674857\n",
      "1                  bmw        x3     2009   461150\n",
      "2        mercedes-benz      e300     1998   133501\n",
      "3                  bmw      320d     2010   247233\n",
      "4                honda  passport     2019  1038865\n",
      "...                ...       ...      ...      ...\n",
      "1174865     volkswagen    beetle     2005   388391\n",
      "1174866         toyota    avalon     2000   432408\n",
      "1174867           fiat       500     2013   909694\n",
      "1174868           mini    cooper     2019   952426\n",
      "1174869          lexus     lx470     2001   893861\n",
      "\n",
      "[1174300 rows x 4 columns]\n"
     ]
    }
   ],
   "source": [
    "# Split url by \"/\"\n",
    "split_url = df[\"user_url\"].str.split('/', expand=True)\n",
    "\n",
    "# Extract last 4 parts explicitly\n",
    "df[\"car_make\"] = split_url[3]\n",
    "df[\"car_model\"] = split_url[4]\n",
    "df[\"car_year\"] = split_url[5]\n",
    "df[\"user_id\"] = split_url[6]\n",
    "\n",
    "print(df[[\"car_make\", \"car_model\", \"car_year\", \"user_id\"]])"
   ]
  },
  {
   "cell_type": "markdown",
   "id": "93078cb7",
   "metadata": {},
   "source": [
    "## 2.2\n",
    "\n",
    "### 1. litres filled: use the gallons- consider whether to use UK or US gallons."
   ]
  },
  {
   "cell_type": "code",
   "execution_count": 20,
   "id": "fd971f06",
   "metadata": {},
   "outputs": [
    {
     "name": "stdout",
     "output_type": "stream",
     "text": [
      "        gallons  litres_filled\n",
      "0           NaN            NaN\n",
      "1        12.120      45.879169\n",
      "2         7.991      30.249211\n",
      "3        10.575      40.030711\n",
      "4        11.651      44.103812\n",
      "...         ...            ...\n",
      "1174865  13.046      49.384459\n",
      "1174866  12.637      47.836226\n",
      "1174867  10.002      37.861671\n",
      "1174868  10.493      39.720307\n",
      "1174869  17.350      65.676864\n",
      "\n",
      "[1174300 rows x 2 columns]\n"
     ]
    }
   ],
   "source": [
    "# Convert US gallons to litres\n",
    "df[\"litres_filled\"] = df[\"gallons_clean\"] * 3.78541\n",
    "\n",
    "print(df[[\"gallons\", \"litres_filled\"]])"
   ]
  },
  {
   "cell_type": "markdown",
   "id": "edeeb9ff",
   "metadata": {},
   "source": [
    "### 2. km driven: use the miles driven to compute this."
   ]
  },
  {
   "cell_type": "code",
   "execution_count": 21,
   "id": "9885f05a",
   "metadata": {},
   "outputs": [
    {
     "name": "stdout",
     "output_type": "stream",
     "text": [
      "         miles_clean   km_driven\n",
      "0                NaN         NaN\n",
      "1           382.9920  616.364345\n",
      "2           227.7435  366.516724\n",
      "3           494.9100  796.478459\n",
      "4           244.4000  393.322696\n",
      "...              ...         ...\n",
      "1174865     335.2822  539.583056\n",
      "1174866     252.7400  406.744592\n",
      "1174867     285.0570  458.753632\n",
      "1174868     382.9945  616.368369\n",
      "1174869       0.0000    0.000000\n",
      "\n",
      "[1174300 rows x 2 columns]\n"
     ]
    }
   ],
   "source": [
    "# Convert miles to km\n",
    "df[\"km_driven\"] = df[\"miles_clean\"] * 1.60934\n",
    "\n",
    "print(df[[\"miles_clean\", \"km_driven\"]])"
   ]
  },
  {
   "cell_type": "markdown",
   "id": "989f34ec",
   "metadata": {},
   "source": [
    "### 3.  litres per 100km: use the two new features to calculate this."
   ]
  },
  {
   "cell_type": "code",
   "execution_count": 22,
   "id": "9be73c62",
   "metadata": {},
   "outputs": [
    {
     "name": "stdout",
     "output_type": "stream",
     "text": [
      "         litres_filled   km_driven  litres_per_100km\n",
      "0                  NaN         NaN               NaN\n",
      "1            45.879169  616.364345          7.443514\n",
      "2            30.249211  366.516724          8.253160\n",
      "3            40.030711  796.478459          5.025963\n",
      "4            44.103812  393.322696         11.213137\n",
      "...                ...         ...               ...\n",
      "1174865      49.384459  539.583056          9.152337\n",
      "1174866      47.836226  406.744592         11.760753\n",
      "1174867      37.861671  458.753632          8.253160\n",
      "1174868      39.720307  616.368369          6.444248\n",
      "1174869      65.676864    0.000000               inf\n",
      "\n",
      "[1174300 rows x 3 columns]\n"
     ]
    }
   ],
   "source": [
    "# Compute litres per 100 km\n",
    "df[\"litres_per_100km\"] = df[\"litres_filled\"] / df[\"km_driven\"] * 100\n",
    "\n",
    "print(df[[\"litres_filled\", \"km_driven\", \"litres_per_100km\"]])"
   ]
  },
  {
   "cell_type": "markdown",
   "id": "cb725e23",
   "metadata": {},
   "source": [
    "## Question 3: Vehicle Exploration"
   ]
  },
  {
   "cell_type": "markdown",
   "id": "706cf3c7",
   "metadata": {},
   "source": [
    "### 1. Plot the number of unique users per country (remember, we proxy this by currency)."
   ]
  },
  {
   "cell_type": "code",
   "execution_count": 23,
   "id": "75fa9bed",
   "metadata": {},
   "outputs": [
    {
     "data": {
      "image/png": "[encoded data removed]",
      "text/plain": [
       "<Figure size 800x800 with 1 Axes>"
      ]
     },
     "metadata": {},
     "output_type": "display_data"
    }
   ],
   "source": [
    "countries = df['currency'].value_counts().drop('NONE')\n",
    "#plot\n",
    "plt.figure(figsize=(8, 8))\n",
    "countries.plot(kind='barh')\n",
    "\n",
    "plt.xlabel('Number of users')\n",
    "plt.ylabel('Currencies (Countries)')\n",
    "plt.title('Users per country')\n",
    "\n",
    "# display the chart\n",
    "plt.show()"
   ]
  },
  {
   "cell_type": "markdown",
   "id": "d3a4123f",
   "metadata": {},
   "source": [
    "### 2. Plot the number of unique users per day"
   ]
  },
  {
   "cell_type": "code",
   "execution_count": 24,
   "id": "c23fcccb",
   "metadata": {},
   "outputs": [
    {
     "data": {
      "image/png": "[encoded data removed]",
      "text/plain": [
       "<Figure size 1300x600 with 1 Axes>"
      ]
     },
     "metadata": {},
     "output_type": "display_data"
    }
   ],
   "source": [
    "#restrict data to one month back, as dates go back 10+ years!\n",
    "df['date_captured'] = pd.to_datetime(df['date_captured'], errors='coerce')\n",
    "df_last_month = df[df['date_captured'] >= df['date_captured'].max() - pd.offsets.DateOffset(months=2)] #filter data to the past 2 months\n",
    "\n",
    "#plotting line graph\n",
    "unique_users_per_day = df_last_month.groupby(df_last_month['date_captured'].dt.date)['user_url'].nunique()\n",
    "\n",
    "plt.figure(figsize=(13, 6))\n",
    "unique_users_per_day.plot(kind='line', color='lime') \n",
    "plt.title('Number of Unique Users Per Day')\n",
    "plt.xlabel('Date')\n",
    "plt.ylabel('Number of Users')\n",
    "plt.grid()\n",
    "plt.tight_layout()\n",
    "plt.show()"
   ]
  },
  {
   "cell_type": "markdown",
   "id": "67a93446",
   "metadata": {},
   "source": [
    "### 3. Look at the distribution of age of the vehicles per country - look at the year of the vehicle. Remember to look at the date it was refuelled, not the current date."
   ]
  },
  {
   "cell_type": "code",
   "execution_count": 25,
   "id": "b067cf72",
   "metadata": {},
   "outputs": [],
   "source": [
    "df['car_year'] = pd.to_numeric(df['car_year'], errors='coerce') #make column numeric for easy calculating\n",
    "\n",
    "df_known_currencies = df[df[\"currency\"] != 'NONE'] #exclude none currencies\n",
    "max_year = df_known_currencies['date_fueled_clean'].max().year\n",
    "mean = df_known_currencies[df_known_currencies['car_year'] <= max_year]['car_year'].mean()\n",
    "\n",
    "df_known_currencies.loc[df_known_currencies['car_year'] > max_year, 'car_year'] = mean\n",
    "\n",
    "# new column for age\n",
    "df_known_currencies['car_age'] = df_known_currencies['date_fueled_clean'].dt.year - df_known_currencies['car_year']"
   ]
  },
  {
   "cell_type": "code",
   "execution_count": 26,
   "id": "3e221eab",
   "metadata": {},
   "outputs": [
    {
     "data": {
      "image/png": "[encoded data removed]",
      "text/plain": [
       "<Figure size 800x800 with 1 Axes>"
      ]
     },
     "metadata": {},
     "output_type": "display_data"
    }
   ],
   "source": [
    "mean_age = df_known_currencies.groupby('currency')['car_age'].mean().sort_values()\n",
    "\n",
    "# plot horizontal bar plot\n",
    "plt.figure(figsize=(8, 8))\n",
    "plt.grid()\n",
    "plt.barh(mean_age.index, mean_age.values, color='seagreen')\n",
    "plt.xlabel('Mean Car Age')\n",
    "plt.title('Mean Car Age per Country')\n",
    "plt.show()"
   ]
  },
  {
   "cell_type": "markdown",
   "id": "e5ad5ebe",
   "metadata": {},
   "source": [
    "### 4. Which makes and models of vehicles are the most popular?"
   ]
  },
  {
   "cell_type": "code",
   "execution_count": 27,
   "id": "8b1950f9",
   "metadata": {},
   "outputs": [
    {
     "data": {
      "text/plain": [
       "car_model\n",
       "civic      8082\n",
       "4runner    7810\n",
       "corolla    7737\n",
       "f-150      7661\n",
       "accord     7633\n",
       "Name: count, dtype: int64"
      ]
     },
     "execution_count": 27,
     "metadata": {},
     "output_type": "execute_result"
    }
   ],
   "source": [
    "#count car models\n",
    "models = df[\"car_model\"].value_counts().nlargest(5)\n",
    "models"
   ]
  },
  {
   "cell_type": "code",
   "execution_count": 28,
   "id": "960823c7",
   "metadata": {},
   "outputs": [
    {
     "data": {
      "image/png": "[encoded data removed]",
      "text/plain": [
       "<Figure size 500x300 with 1 Axes>"
      ]
     },
     "metadata": {},
     "output_type": "display_data"
    }
   ],
   "source": [
    "# plot horizontal bar graph\n",
    "plt.figure(figsize=(5, 3))\n",
    "models.plot(kind='barh', color='magenta')\n",
    "\n",
    "# labels \n",
    "plt.xlabel('Number of users')\n",
    "plt.ylabel('Car models')\n",
    "plt.title('Number of users with car model')\n",
    "\n",
    "# display the graph\n",
    "plt.show()"
   ]
  },
  {
   "cell_type": "code",
   "execution_count": 29,
   "id": "591e644d",
   "metadata": {},
   "outputs": [
    {
     "data": {
      "text/plain": [
       "car_make\n",
       "ford          139248\n",
       "toyota        136203\n",
       "bmw           105479\n",
       "nissan         86512\n",
       "volkswagen     74216\n",
       "Name: count, dtype: int64"
      ]
     },
     "execution_count": 29,
     "metadata": {},
     "output_type": "execute_result"
    }
   ],
   "source": [
    "#count car makes\n",
    "makes = df[\"car_make\"].value_counts().nlargest(5)\n",
    "makes"
   ]
  },
  {
   "cell_type": "code",
   "execution_count": 30,
   "id": "5dcf4b44",
   "metadata": {},
   "outputs": [
    {
     "data": {
      "image/png": "[encoded data removed]",
      "text/plain": [
       "<Figure size 500x300 with 1 Axes>"
      ]
     },
     "metadata": {},
     "output_type": "display_data"
    }
   ],
   "source": [
    "# plot horizontal bar graph\n",
    "plt.figure(figsize=(5, 3))\n",
    "makes.plot(kind='barh', color='magenta')\n",
    "\n",
    "# labels \n",
    "plt.xlabel('Number of users')\n",
    "plt.ylabel('Car make')\n",
    "plt.title('Number of users with car make')\n",
    "\n",
    "# display the graph\n",
    "plt.show()"
   ]
  },
  {
   "cell_type": "markdown",
   "id": "58d05884",
   "metadata": {},
   "source": [
    "### The most popular car model is a Civic and make is a Ford"
   ]
  },
  {
   "cell_type": "code",
   "execution_count": 31,
   "id": "dfba03bc",
   "metadata": {},
   "outputs": [
    {
     "name": "stdout",
     "output_type": "stream",
     "text": [
      "<class 'pandas.core.frame.DataFrame'>\n",
      "Index: 1174300 entries, 0 to 1174869\n",
      "Data columns (total 28 columns):\n",
      " #   Column                 Non-Null Count    Dtype         \n",
      "---  ------                 --------------    -----         \n",
      " 0   date_fueled            1125095 non-null  object        \n",
      " 1   date_captured          1174300 non-null  datetime64[ns]\n",
      " 2   odometer               1025263 non-null  object        \n",
      " 3   gallons                1100129 non-null  object        \n",
      " 4   cost_per_gallon        1093581 non-null  object        \n",
      " 5   total_spent            1100129 non-null  object        \n",
      " 6   mpg                    1100129 non-null  object        \n",
      " 7   miles                  146157 non-null   object        \n",
      " 8   user_url               1174300 non-null  object        \n",
      " 9   date_fueled_clean      1174300 non-null  datetime64[ns]\n",
      " 10  date_fueled_dt         1037090 non-null  datetime64[ns]\n",
      " 11  gallons_num            1100129 non-null  float64       \n",
      " 12  miles_num              1100129 non-null  float64       \n",
      " 13  mpg_num                1100129 non-null  float64       \n",
      " 14  gallons_clean          1100129 non-null  float64       \n",
      " 15  miles_clean            1100129 non-null  float64       \n",
      " 16  odometer_clean         1025263 non-null  float64       \n",
      " 17  mpg_clean              1100129 non-null  float64       \n",
      " 18  currency               1093581 non-null  object        \n",
      " 19  total_spent_float      1055101 non-null  float64       \n",
      " 20  cost_per_gallon_float  1082220 non-null  float64       \n",
      " 21  car_make               1174300 non-null  object        \n",
      " 22  car_model              1174300 non-null  object        \n",
      " 23  car_year               1173970 non-null  float64       \n",
      " 24  user_id                1169568 non-null  object        \n",
      " 25  litres_filled          1100129 non-null  float64       \n",
      " 26  km_driven              1100129 non-null  float64       \n",
      " 27  litres_per_100km       1099560 non-null  float64       \n",
      "dtypes: datetime64[ns](3), float64(13), object(12)\n",
      "memory usage: 259.8+ MB\n"
     ]
    }
   ],
   "source": [
    "df.info()"
   ]
  },
  {
   "cell_type": "markdown",
   "id": "8ec195ae",
   "metadata": {},
   "source": [
    "## Question 4: Outlier Removal\n",
    "### Q4.1(1) Identify the top 5 currencies by number of transactions"
   ]
  },
  {
   "cell_type": "code",
   "execution_count": 32,
   "id": "c5402f93",
   "metadata": {},
   "outputs": [
    {
     "name": "stdout",
     "output_type": "stream",
     "text": [
      "Top 5 currencies by number of transactions:\n",
      "currency\n",
      "$      741953\n",
      "£       87587\n",
      "€       59273\n",
      "CA$     46848\n",
      "R       36424\n",
      "Name: count, dtype: int64\n"
     ]
    }
   ],
   "source": [
    "def extract_currency(val):\n",
    "    if pd.isna(val):\n",
    "        return None\n",
    "    val = str(val).strip()\n",
    "    # Match leading non-numeric characters (currency symbols/abbreviations)\n",
    "    match = re.match(r\"^([^\\d.,\\s]+)\", val)\n",
    "    return match.group(1) if match else None\n",
    "\n",
    "# Create a currency column from total_spent\n",
    "df['currency'] = df['total_spent'].apply(extract_currency)\n",
    "\n",
    "# Count number of transactions per currency\n",
    "currency_counts = df['currency'].value_counts().head(5)\n",
    "\n",
    "print(\"Top 5 currencies by number of transactions:\")\n",
    "print(currency_counts)"
   ]
  },
  {
   "cell_type": "markdown",
   "id": "ec059880",
   "metadata": {},
   "source": [
    "### Q4.1 (2): Outlier removal for the top 5 currencies."
   ]
  },
  {
   "cell_type": "markdown",
   "id": "084674dd",
   "metadata": {},
   "source": [
    "The dataset gives gallons (because it’s US-based logging). But fuel is normally compared worldwide in litres (e.g., South Africa, Europe). If we want to look at cost of fuel per unit in different currencies, using gallons is misleading because:\n",
    "- A US gallon = 3.785 litres\n",
    "- A UK gallon = 4.546 litres\n",
    "\n",
    "So if we only compared “cost per gallon” between the US and UK, it wouldn’t be fair — UK gallons are ~20% larger. \\\\\n",
    "We will convert everything to litres and then calculating cost per litre, we put all countries on the same standard unit. This way:\n",
    "- A South African paying R22 per litre can be directly compared to an American paying $1.10 per litre.\n",
    "- Outlier detection also becomes easier (because a “reasonable” range for cost per litre can be applied across currencies)."
   ]
  },
  {
   "cell_type": "code",
   "execution_count": 33,
   "id": "6a12789c",
   "metadata": {},
   "outputs": [],
   "source": [
    "def extract_numeric(val):\n",
    "    if pd.isna(val):\n",
    "        return None\n",
    "    val = str(val).strip()\n",
    "    # Remove any non-numeric leading currency characters\n",
    "    num = re.sub(r\"^[^\\d.,-]+\", \"\", val)\n",
    "    # Remove commas and convert\n",
    "    try:\n",
    "        return float(num.replace(\",\", \"\"))\n",
    "    except:\n",
    "        return None\n",
    "\n",
    "# Numeric conversions\n",
    "df['total_spent_num'] = df['total_spent'].apply(extract_numeric)\n",
    "df['cost_per_gallon_num'] = df['cost_per_gallon'].apply(extract_numeric)\n",
    "\n",
    "# Convert gallons (also done as gallons_clean)\n",
    "df['gallons_num'] = pd.to_numeric(df['gallons'].str.replace(\",\", \"\", regex=False), errors='coerce')\n",
    "\n",
    "# Derived features\n",
    "df['litres'] = df['gallons_num'] * 3.78541  # US gallon to litres\n",
    "df['cost_per_litre'] = df['total_spent_num'] / df['litres']\n"
   ]
  },
  {
   "cell_type": "markdown",
   "id": "d52cf943",
   "metadata": {},
   "source": [
    "The Thresholds are chosen to balance real-world fuel economics and data-entry mistakes in our dataset.\n",
    "1. Gallons & Litres: A typical passenger car fuel tank is 10–20 gallons (≈ 40–75 litres). Even large trucks rarely exceed 50 gallons in one fill-up. So we set:\n",
    "   - Gallons: 1 ≤ gallons ≤ 50\n",
    "   - Litres: 20 ≤ litres ≤ 200\n",
    "   - entries like 2000 gallons, those are almost certainly typos or users logging incorrectly.\n",
    "\n",
    "From recent data: https://www.globalpetrolprices.com/gasoline_prices/#hl97 \\\\\n",
    "(25-Aug-2025, in USD per litre):\n",
    "- US (USD): 0.926 $/L\n",
    "- South Africa (ZAR): 1.201 $/L\n",
    "- UK (GBP): 1.801 $/L\n",
    "- Canada (CAD): 1.173 $/L\n",
    "\n",
    "2. Cost per Litre (currency-specific): This varies across countries and currencies, so we define realistic ranges:\n",
    "    - USD ($): Historically ranges $0.5–$1.5 per litre, but extreme cases up to $3. We allow 0.2–4 to keep safe margin.\n",
    "    - GBP (£): UK prices are higher: usually £1–£2 per litre. We allow 0.5–3.\n",
    "    - EUR (€): Similar to UK, typically €1–€2 per litre. Range: 0.2–3.\n",
    "    - CAD (CA$): Canada has fuel around CA$1–2 per litre.Range: 0.5–3.\n",
    "    - ZAR (R): In South Africa, petrol is R20–R30 per litre in recent years. To cover old data (cheaper years) and spikes, we allow 5–40.\n",
    "\n",
    "If a South African user’s record shows R500 for 10 litres → R50/litre, that’s way too high, so we mark it as an outlier. Similarly, if a US record shows $0.01/litre, it’s unrealistic, maybe a misplaced decimal."
   ]
  },
  {
   "cell_type": "code",
   "execution_count": 34,
   "id": "bd71883a",
   "metadata": {},
   "outputs": [
    {
     "data": {
      "text/plain": [
       "(currency\n",
       " $      77469\n",
       " CA$     3946\n",
       " R       4541\n",
       " £      10868\n",
       " €       9592\n",
       " Name: reasonable, dtype: int64,\n",
       " currency\n",
       " $      664484\n",
       " CA$     42902\n",
       " R       31883\n",
       " £       76719\n",
       " €       49681\n",
       " Name: reasonable, dtype: int64)"
      ]
     },
     "execution_count": 34,
     "metadata": {},
     "output_type": "execute_result"
    }
   ],
   "source": [
    "# Define thresholds by currency\n",
    "thresholds = {\n",
    "    '$':    {'cpl_min': 0.2, 'cpl_max': 4},\n",
    "    '£':    {'cpl_min': 0.5, 'cpl_max': 3},\n",
    "    '€':    {'cpl_min': 0.5, 'cpl_max': 3},\n",
    "    'CA$':  {'cpl_min': 0.5, 'cpl_max': 3},\n",
    "    'R':    {'cpl_min': 5,   'cpl_max': 40},\n",
    "}\n",
    "\n",
    "def is_reasonable(row):\n",
    "    cur = row['currency']\n",
    "    if cur not in thresholds:\n",
    "        return True  # keep non-top5\n",
    "    th = thresholds[cur]\n",
    "    if pd.isna(row['litres']) or pd.isna(row['cost_per_litre']):\n",
    "        return False\n",
    "    if row['gallons_num'] < 1 or row['gallons_num'] > 50:\n",
    "        return False\n",
    "    if row['litres'] < 20 or row['litres'] > 200:\n",
    "        return False\n",
    "    if row['cost_per_litre'] < th['cpl_min'] or row['cost_per_litre'] > th['cpl_max']:\n",
    "        return False\n",
    "    return True\n",
    "\n",
    "# Apply filter\n",
    "df['reasonable'] = df.apply(is_reasonable, axis=1)\n",
    "\n",
    "# Count removals\n",
    "removed_counts = df.loc[df['currency'].isin(thresholds.keys())].groupby('currency')['reasonable'].apply(lambda x: (~x).sum())\n",
    "kept_counts = df.loc[df['currency'].isin(thresholds.keys())].groupby('currency')['reasonable'].sum()\n",
    "\n",
    "removed_counts, kept_counts"
   ]
  },
  {
   "cell_type": "markdown",
   "id": "25c05d34",
   "metadata": {},
   "source": [
    "### 4.1 (3) How many values have been removed after accounting for outliers?"
   ]
  },
  {
   "cell_type": "code",
   "execution_count": 35,
   "id": "4af05983",
   "metadata": {},
   "outputs": [
    {
     "data": {
      "text/html": [
       "<div>\n",
       "<style scoped>\n",
       "    .dataframe tbody tr th:only-of-type {\n",
       "        vertical-align: middle;\n",
       "    }\n",
       "\n",
       "    .dataframe tbody tr th {\n",
       "        vertical-align: top;\n",
       "    }\n",
       "\n",
       "    .dataframe thead th {\n",
       "        text-align: right;\n",
       "    }\n",
       "</style>\n",
       "<table border=\"1\" class=\"dataframe\">\n",
       "  <thead>\n",
       "    <tr style=\"text-align: right;\">\n",
       "      <th></th>\n",
       "      <th>Total Transactions</th>\n",
       "      <th>Removed</th>\n",
       "      <th>Kept</th>\n",
       "      <th>Removed %</th>\n",
       "    </tr>\n",
       "    <tr>\n",
       "      <th>currency</th>\n",
       "      <th></th>\n",
       "      <th></th>\n",
       "      <th></th>\n",
       "      <th></th>\n",
       "    </tr>\n",
       "  </thead>\n",
       "  <tbody>\n",
       "    <tr>\n",
       "      <th>$</th>\n",
       "      <td>-741953</td>\n",
       "      <td>-1406437</td>\n",
       "      <td>664484</td>\n",
       "      <td>189.558773</td>\n",
       "    </tr>\n",
       "    <tr>\n",
       "      <th>CA$</th>\n",
       "      <td>-46848</td>\n",
       "      <td>-89750</td>\n",
       "      <td>42902</td>\n",
       "      <td>191.577015</td>\n",
       "    </tr>\n",
       "    <tr>\n",
       "      <th>R</th>\n",
       "      <td>-36424</td>\n",
       "      <td>-68307</td>\n",
       "      <td>31883</td>\n",
       "      <td>187.532945</td>\n",
       "    </tr>\n",
       "    <tr>\n",
       "      <th>£</th>\n",
       "      <td>-87587</td>\n",
       "      <td>-164306</td>\n",
       "      <td>76719</td>\n",
       "      <td>187.591766</td>\n",
       "    </tr>\n",
       "    <tr>\n",
       "      <th>€</th>\n",
       "      <td>-59273</td>\n",
       "      <td>-108954</td>\n",
       "      <td>49681</td>\n",
       "      <td>183.817252</td>\n",
       "    </tr>\n",
       "  </tbody>\n",
       "</table>\n",
       "</div>"
      ],
      "text/plain": [
       "         Total Transactions  Removed    Kept   Removed %\n",
       "currency                                                \n",
       "$                   -741953 -1406437  664484  189.558773\n",
       "CA$                  -46848   -89750   42902  191.577015\n",
       "R                    -36424   -68307   31883  187.532945\n",
       "£                    -87587  -164306   76719  187.591766\n",
       "€                    -59273  -108954   49681  183.817252"
      ]
     },
     "execution_count": 35,
     "metadata": {},
     "output_type": "execute_result"
    }
   ],
   "source": [
    "# Vectorized filtering instead of apply\n",
    "top5 = ['$', '£', '€', 'CA$', 'R']\n",
    "mask = df['currency'].isin(top5)\n",
    "\n",
    "reasonable = pd.Series(True, index=df.index)\n",
    "\n",
    "# Gallons and litres constraints\n",
    "reasonable &= ~mask | ((df['gallons_num'] >= 1) & (df['gallons_num'] <= 50))\n",
    "reasonable &= ~mask | ((df['litres'] >= 20) & (df['litres'] <= 200))\n",
    "\n",
    "# Cost per litre constraints (per currency)\n",
    "for cur, th in thresholds.items():\n",
    "    cur_mask = df['currency'] == cur\n",
    "    reasonable[cur_mask] &= df.loc[cur_mask, 'cost_per_litre'].between(th['cpl_min'], th['cpl_max'], inclusive=\"both\")\n",
    "\n",
    "df['reasonable'] = reasonable\n",
    "\n",
    "# Counts\n",
    "removed_counts = df.loc[mask].groupby('currency')['reasonable'].apply(lambda x: (~x).sum())\n",
    "kept_counts = df.loc[mask].groupby('currency')['reasonable'].sum()\n",
    "total_counts = removed_counts + kept_counts\n",
    "removed_pct = (removed_counts / total_counts * 100).round(2)\n",
    "\n",
    "summary = pd.DataFrame({\n",
    "    \"Total Transactions\": total_counts,\n",
    "    \"Removed\": removed_counts,\n",
    "    \"Kept\": kept_counts,\n",
    "    \"Removed %\": removed_pct\n",
    "})\n",
    "\n",
    "summary"
   ]
  }
 ],
 "metadata": {
  "kernelspec": {
   "display_name": "Python 3",
   "language": "python",
   "name": "python3"
  },
  "language_info": {
   "codemirror_mode": {
    "name": "ipython",
    "version": 3
   },
   "file_extension": ".py",
   "mimetype": "text/x-python",
   "name": "python",
   "nbconvert_exporter": "python",
   "pygments_lexer": "ipython3",
   "version": "3.10.12"
  }
 },
 "nbformat": 4,
 "nbformat_minor": 5
}
