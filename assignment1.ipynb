{
 "cells": [
  {
   "cell_type": "code",
   "execution_count": null,
   "id": "aa9d1266",
   "metadata": {},
   "outputs": [],
   "source": [
    "# Core data handling\n",
    "import pandas as pd\n",
    "import numpy as np\n",
    "from pathlib import Path\n",
    "\n",
    "import re\n",
    "from datetime import datetime\n",
    "import dateutil.parser\n",
    "\n",
    "import matplotlib.pyplot as plt\n",
    "import seaborn as sns\n",
    "\n",
    "from scipy import stats\n",
    "\n",
    "from sklearn.ensemble import RandomForestRegressor\n",
    "from sklearn.model_selection import train_test_split\n",
    "from sklearn.metrics import mean_squared_error, r2_score\n",
    "\n",
    "import warnings\n",
    "warnings.filterwarnings(\"ignore\")"
   ]
  },
  {
   "cell_type": "code",
   "execution_count": 4,
   "id": "861f6fd8",
   "metadata": {},
   "outputs": [],
   "source": [
    "csv_path = Path(\"logbook_assignment1.csv\")\n",
    "if csv_path is None:\n",
    "    raise FileNotFoundError(\"Could not find 'logbook_assignment1.csv' in the working directory\")"
   ]
  },
  {
   "cell_type": "code",
   "execution_count": 5,
   "id": "260af95b",
   "metadata": {},
   "outputs": [
    {
     "name": "stdout",
     "output_type": "stream",
     "text": [
      "Loaded 1,174,870 rows from: logbook_assignment1.csv\n"
     ]
    }
   ],
   "source": [
    "df = pd.read_csv(csv_path, dtype=str)  # read everything as string first (dataset is messy)\n",
    "print(f\"Loaded {len(df):,} rows from: {csv_path}\")"
   ]
  },
  {
   "cell_type": "code",
   "execution_count": 6,
   "id": "1d3464a1",
   "metadata": {},
   "outputs": [
    {
     "name": "stdout",
     "output_type": "stream",
     "text": [
      "All expected columns present.\n"
     ]
    }
   ],
   "source": [
    "# Peek at the columns we care about (ensure expected names exist)\n",
    "expected_cols = ['date_fueled', 'date_captured', 'odometer', 'gallons', 'cost_per_gallon', 'total_spent', 'mpg', 'miles', 'user_url']\n",
    "missing = [c for c in expected_cols if c not in df.columns]\n",
    "if missing:\n",
    "    print(\"Warning: Missing expected columns:\", missing)\n",
    "else:\n",
    "    print(\"All expected columns present.\")"
   ]
  },
  {
   "cell_type": "markdown",
   "id": "2cd4d96d",
   "metadata": {},
   "source": [
    "## 1.1 Date Fields\n",
    "### 1. percentage of date fueled entries that are not proper dates.\n",
    "Helpers to parse dates in the form eg. \"Jan 9 2014\" and compute validity masks"
   ]
  },
  {
   "cell_type": "code",
   "execution_count": 7,
   "id": "95f14d87",
   "metadata": {},
   "outputs": [
    {
     "name": "stdout",
     "output_type": "stream",
     "text": [
      "Q1.1(1) — Percentage of 'date_fueled' entries that are NOT proper dates: 11.68%\n",
      "Valid 'date_fueled': 1,037,660 / 1,174,870\n",
      "Invalid 'date_fueled': 137,210 / 1,174,870\n"
     ]
    }
   ],
   "source": [
    "def clean_date_str(s: pd.Series) -> pd.Series:\n",
    "    \"\"\"\n",
    "    Light string cleanup:\n",
    "    - Ensure string type\n",
    "    - Strip whitespace\n",
    "    - Remove stray single/double quotes\n",
    "    - Collapse multiple internal spaces to a single space\n",
    "    \"\"\"\n",
    "    s = s.astype(\"string\")\n",
    "    s = s.str.strip()\n",
    "    s = s.str.replace('\"', '', regex=False).str.replace(\"'\", \"\", regex=False)\n",
    "    s = s.str.replace(r\"\\s+\", \" \", regex=True)  # compress whitespace\n",
    "    return s\n",
    "\n",
    "def parse_mmmdyyyy(series: pd.Series) -> pd.Series:\n",
    "    \"\"\"\n",
    "    Parse dates strictly in format '%b %d %Y' e.g., 'Jan 9 2014'.\n",
    "    Returns datetime64[ns] with NaT for invalids.\n",
    "    \"\"\"\n",
    "    cleaned = clean_date_str(series)\n",
    "    parsed = pd.to_datetime(cleaned, format=\"%b %d %Y\", errors=\"coerce\")\n",
    "    return parsed\n",
    "\n",
    "# Create parsed columns (do not mutate originals)\n",
    "parsed_date_fueled = parse_mmmdyyyy(df['date_fueled'])\n",
    "parsed_date_captured = parse_mmmdyyyy(df['date_captured'])\n",
    "\n",
    "valid_fueled_mask = parsed_date_fueled.notna()\n",
    "valid_captured_mask = parsed_date_captured.notna()\n",
    "\n",
    "percent_not_proper_date = (1.0 - valid_fueled_mask.mean()) * 100.0\n",
    "print(f\"Q1.1(1) — Percentage of 'date_fueled' entries that are NOT proper dates: {percent_not_proper_date:.2f}%\")\n",
    "print(f\"Valid 'date_fueled': {valid_fueled_mask.sum():,} / {len(df):,}\")\n",
    "print(f\"Invalid 'date_fueled': {(~valid_fueled_mask).sum():,} / {len(df):,}\")\n"
   ]
  },
  {
   "cell_type": "markdown",
   "id": "7350be55",
   "metadata": {},
   "source": [
    "### Q1.1(2) Fill proxy dates"
   ]
  },
  {
   "cell_type": "code",
   "execution_count": 9,
   "id": "2b67ab0b",
   "metadata": {},
   "outputs": [
    {
     "name": "stdout",
     "output_type": "stream",
     "text": [
      "Q1.1(2) — Filled proxy dates from 'date_captured' for 137,210 rows.\n",
      "After filling, remaining invalid 'date_fueled_clean': 0 rows (0.00%).\n"
     ]
    }
   ],
   "source": [
    "# If 'date_fueled' is invalid and 'date_captured' is valid, use 'date_captured' as a proxy.\n",
    "# We'll create a clean datetime column 'date_fueled_clean' for analysis.\n",
    "\n",
    "df['date_fueled_clean'] = parsed_date_fueled  # start with parsed 'date_fueled'\n",
    "to_fill_mask = (~valid_fueled_mask) & (valid_captured_mask)\n",
    "\n",
    "filled_count = to_fill_mask.sum()\n",
    "df.loc[to_fill_mask, 'date_fueled_clean'] = parsed_date_captured.loc[to_fill_mask]\n",
    "\n",
    "# Report post-fill validity\n",
    "post_valid_mask = df['date_fueled_clean'].notna()\n",
    "post_invalid_count = (~post_valid_mask).sum()\n",
    "post_invalid_pct = (post_invalid_count / len(df)) * 100.0\n",
    "\n",
    "print(f\"Q1.1(2) — Filled proxy dates from 'date_captured' for {filled_count:,} rows.\")\n",
    "print(f\"After filling, remaining invalid 'date_fueled_clean': {post_invalid_count:,} rows ({post_invalid_pct:.2f}%).\")\n"
   ]
  },
  {
   "cell_type": "markdown",
   "id": "f162a630",
   "metadata": {},
   "source": [
    "### Q1.1(3) Convert the 'date_fueled' column to proper datetime, invalids as NaT\n",
    "- date_fueled_dt has the original dates formatted\n",
    "- date_fueled_clean had the dates with the proxys formatted"
   ]
  },
  {
   "cell_type": "code",
   "execution_count": 12,
   "id": "4f9458ee",
   "metadata": {},
   "outputs": [
    {
     "name": "stdout",
     "output_type": "stream",
     "text": [
      "Q1.1(3) — Converted 'date_fueled' to datetime. Invalid entries set to NaT: 137,210 (11.68%)\n",
      "'date_fueled_clean' updated to datetime. Remaining invalid entries (NaT): 0 (0.0000%).\n"
     ]
    }
   ],
   "source": [
    "df['date_fueled_dt'] = pd.to_datetime(df['date_fueled'], format=\"%b %d %Y\", errors=\"coerce\")\n",
    "\n",
    "# Check how many are NaT\n",
    "invalid_count = df['date_fueled_dt'].isna().sum()\n",
    "invalid_pct = (invalid_count / len(df)) * 100\n",
    "\n",
    "print(f\"Q1.1(3) — Converted 'date_fueled' to datetime. Invalid entries set to NaT: {invalid_count:,} ({invalid_pct:.2f}%)\")\n",
    "\n",
    "# Update 'date_fueled_clean' to ensure it is in datetime format with NaT for invalids.\n",
    "# This column had proxies filled from 'date_captured' earlier.\n",
    "\n",
    "df['date_fueled_clean'] = pd.to_datetime(df['date_fueled_clean'], errors=\"coerce\")\n",
    "\n",
    "# Recheck invalids\n",
    "invalid_count_clean = df['date_fueled_clean'].isna().sum()\n",
    "invalid_pct_clean = (invalid_count_clean / len(df)) * 100\n",
    "\n",
    "print(f\"'date_fueled_clean' updated to datetime. Remaining invalid entries (NaT): {invalid_count_clean:,} ({invalid_pct_clean:.4f}%).\")"
   ]
  },
  {
   "cell_type": "markdown",
   "id": "e82d48c9",
   "metadata": {},
   "source": [
    "### Q1.1(4) Remove dates in the future or earlier than 2005 from 'date_fueled_clean'"
   ]
  },
  {
   "cell_type": "code",
   "execution_count": 13,
   "id": "10a47b44",
   "metadata": {},
   "outputs": [
    {
     "name": "stdout",
     "output_type": "stream",
     "text": [
      "Q1.1(4) — Removed 570 rows with dates outside [2005, today].\n",
      "Remaining rows: 1,174,300 (from 1,174,870).\n"
     ]
    }
   ],
   "source": [
    "# Define valid date range: 2005-01-01 <= date <= today\n",
    "min_date = pd.Timestamp(\"2005-01-01\")\n",
    "max_date = pd.Timestamp.today().normalize()\n",
    "\n",
    "initial_count = len(df)\n",
    "valid_mask = (df['date_fueled_clean'] >= min_date) & (df['date_fueled_clean'] <= max_date)\n",
    "\n",
    "removed_count = (~valid_mask).sum()\n",
    "df = df.loc[valid_mask].copy()\n",
    "final_count = len(df)\n",
    "\n",
    "print(f\"Q1.1(4) — Removed {removed_count:,} rows with dates outside [2005, today].\")\n",
    "print(f\"Remaining rows: {final_count:,} (from {initial_count:,}).\")"
   ]
  },
  {
   "cell_type": "markdown",
   "id": "2b3b138a",
   "metadata": {},
   "source": [
    "### Q1.1(5) Plot the distribution of fueling dates"
   ]
  },
  {
   "cell_type": "code",
   "execution_count": 14,
   "id": "d71789c3",
   "metadata": {},
   "outputs": [
    {
     "data": {
      "image/png": "[encoded data removed]",
      "text/plain": [
       "<Figure size 1200x600 with 1 Axes>"
      ]
     },
     "metadata": {},
     "output_type": "display_data"
    }
   ],
   "source": [
    "plt.figure(figsize=(12,6))\n",
    "df['date_fueled_clean'].hist(bins=100, edgecolor='black')\n",
    "plt.title(\"Distribution of Fueling Dates\", fontsize=16)\n",
    "plt.xlabel(\"Date Fueled\")\n",
    "plt.ylabel(\"Number of Records\")\n",
    "plt.grid(False)\n",
    "plt.tight_layout()\n",
    "plt.show()"
   ]
  },
  {
   "cell_type": "markdown",
   "id": "e4e44c30",
   "metadata": {},
   "source": [
    "## 1.2. Numeric Fields\n",
    "\n",
    "(1) percentage of gallons, miles, and odometer entries are\n",
    "missing."
   ]
  },
  {
   "cell_type": "code",
   "execution_count": 15,
   "id": "e86350c2",
   "metadata": {},
   "outputs": [
    {
     "data": {
      "text/html": [
       "<div>\n",
       "<style scoped>\n",
       "    .dataframe tbody tr th:only-of-type {\n",
       "        vertical-align: middle;\n",
       "    }\n",
       "\n",
       "    .dataframe tbody tr th {\n",
       "        vertical-align: top;\n",
       "    }\n",
       "\n",
       "    .dataframe thead th {\n",
       "        text-align: right;\n",
       "    }\n",
       "</style>\n",
       "<table border=\"1\" class=\"dataframe\">\n",
       "  <thead>\n",
       "    <tr style=\"text-align: right;\">\n",
       "      <th></th>\n",
       "      <th>Missing Count</th>\n",
       "      <th>Missing %</th>\n",
       "    </tr>\n",
       "  </thead>\n",
       "  <tbody>\n",
       "    <tr>\n",
       "      <th>gallons</th>\n",
       "      <td>74171.0</td>\n",
       "      <td>6.316188</td>\n",
       "    </tr>\n",
       "    <tr>\n",
       "      <th>miles</th>\n",
       "      <td>1028143.0</td>\n",
       "      <td>87.553692</td>\n",
       "    </tr>\n",
       "    <tr>\n",
       "      <th>odometer</th>\n",
       "      <td>149037.0</td>\n",
       "      <td>12.691561</td>\n",
       "    </tr>\n",
       "  </tbody>\n",
       "</table>\n",
       "</div>"
      ],
      "text/plain": [
       "          Missing Count  Missing %\n",
       "gallons         74171.0   6.316188\n",
       "miles         1028143.0  87.553692\n",
       "odometer       149037.0  12.691561"
      ]
     },
     "execution_count": 15,
     "metadata": {},
     "output_type": "execute_result"
    }
   ],
   "source": [
    "numeric_cols = ['gallons', 'miles', 'odometer']\n",
    "\n",
    "missing_stats = {}\n",
    "for col in numeric_cols:\n",
    "    missing_count = df[col].isna().sum() + (df[col] == \"\").sum()\n",
    "    missing_pct = (missing_count / len(df)) * 100\n",
    "    missing_stats[col] = (missing_count, missing_pct)\n",
    "\n",
    "missing_stats_df = pd.DataFrame(missing_stats, index=[\"Missing Count\", \"Missing %\"]).T\n",
    "missing_stats_df"
   ]
  },
  {
   "cell_type": "markdown",
   "id": "b8df15c2",
   "metadata": {},
   "source": [
    "### Q1.2(2) Use interdependence between miles, gallons, and mpg to fill missing values.\n",
    "Formula: mpg = miles / gallons"
   ]
  },
  {
   "cell_type": "code",
   "execution_count": 16,
   "id": "00b58065",
   "metadata": {},
   "outputs": [
    {
     "data": {
      "text/plain": [
       "({'gallons': 74171, 'miles': 1028143, 'mpg': 74171},\n",
       " {'gallons': 74171, 'miles': 74171, 'mpg': 74171})"
      ]
     },
     "execution_count": 16,
     "metadata": {},
     "output_type": "execute_result"
    }
   ],
   "source": [
    "#convert columns to numeric (handling commas, etc. will be part of step 1.2(3))\n",
    "def to_numeric(series):\n",
    "    return pd.to_numeric(series.str.replace(\",\", \"\", regex=False), errors=\"coerce\")\n",
    "\n",
    "df['gallons_num'] = to_numeric(df['gallons'])\n",
    "df['miles_num'] = to_numeric(df['miles'])\n",
    "df['mpg_num'] = to_numeric(df['mpg'])\n",
    "\n",
    "# Count missing before filling\n",
    "missing_before = {\n",
    "    'gallons': df['gallons_num'].isna().sum(),\n",
    "    'miles': df['miles_num'].isna().sum(),\n",
    "    'mpg': df['mpg_num'].isna().sum(),\n",
    "}\n",
    "\n",
    "# Fill missing mpg when miles and gallons are available\n",
    "mask = df['mpg_num'].isna() & df['miles_num'].notna() & df['gallons_num'].notna() & (df['gallons_num'] != 0)\n",
    "df.loc[mask, 'mpg_num'] = df.loc[mask, 'miles_num'] / df.loc[mask, 'gallons_num']\n",
    "\n",
    "# Fill missing miles when mpg and gallons are available\n",
    "mask = df['miles_num'].isna() & df['mpg_num'].notna() & df['gallons_num'].notna()\n",
    "df.loc[mask, 'miles_num'] = df.loc[mask, 'mpg_num'] * df.loc[mask, 'gallons_num']\n",
    "\n",
    "# Fill missing gallons when mpg and miles are available\n",
    "mask = df['gallons_num'].isna() & df['mpg_num'].notna() & df['miles_num'].notna() & (df['mpg_num'] != 0)\n",
    "df.loc[mask, 'gallons_num'] = df.loc[mask, 'miles_num'] / df.loc[mask, 'mpg_num']\n",
    "\n",
    "# Count missing after filling\n",
    "missing_after = {\n",
    "    'gallons': df['gallons_num'].isna().sum(),\n",
    "    'miles': df['miles_num'].isna().sum(),\n",
    "    'mpg': df['mpg_num'].isna().sum(),\n",
    "}\n",
    "\n",
    "missing_before, missing_after\n",
    "\n",
    "#74k rows are missing all three fields, so they cannot be recovered."
   ]
  },
  {
   "cell_type": "markdown",
   "id": "2b5af7e7",
   "metadata": {},
   "source": [
    "### Q1.2(3) Convert gallons, miles, and odometer to floats"
   ]
  },
  {
   "cell_type": "code",
   "execution_count": 20,
   "id": "f786e731",
   "metadata": {},
   "outputs": [
    {
     "data": {
      "text/html": [
       "<div>\n",
       "<style scoped>\n",
       "    .dataframe tbody tr th:only-of-type {\n",
       "        vertical-align: middle;\n",
       "    }\n",
       "\n",
       "    .dataframe tbody tr th {\n",
       "        vertical-align: top;\n",
       "    }\n",
       "\n",
       "    .dataframe thead th {\n",
       "        text-align: right;\n",
       "    }\n",
       "</style>\n",
       "<table border=\"1\" class=\"dataframe\">\n",
       "  <thead>\n",
       "    <tr style=\"text-align: right;\">\n",
       "      <th></th>\n",
       "      <th>count</th>\n",
       "      <th>mean</th>\n",
       "      <th>std</th>\n",
       "      <th>min</th>\n",
       "      <th>25%</th>\n",
       "      <th>50%</th>\n",
       "      <th>75%</th>\n",
       "      <th>max</th>\n",
       "    </tr>\n",
       "  </thead>\n",
       "  <tbody>\n",
       "    <tr>\n",
       "      <th>gallons_clean</th>\n",
       "      <td>1100129.0</td>\n",
       "      <td>12.797430</td>\n",
       "      <td>74.482791</td>\n",
       "      <td>0.0</td>\n",
       "      <td>8.99</td>\n",
       "      <td>11.954</td>\n",
       "      <td>14.939</td>\n",
       "      <td>28380.0</td>\n",
       "    </tr>\n",
       "    <tr>\n",
       "      <th>miles_clean</th>\n",
       "      <td>146157.0</td>\n",
       "      <td>342.632296</td>\n",
       "      <td>1915.392554</td>\n",
       "      <td>0.1</td>\n",
       "      <td>225.50</td>\n",
       "      <td>291.600</td>\n",
       "      <td>367.000</td>\n",
       "      <td>195321.2</td>\n",
       "    </tr>\n",
       "    <tr>\n",
       "      <th>odometer_clean</th>\n",
       "      <td>1025263.0</td>\n",
       "      <td>104001.086158</td>\n",
       "      <td>340597.635009</td>\n",
       "      <td>0.0</td>\n",
       "      <td>45924.00</td>\n",
       "      <td>91888.000</td>\n",
       "      <td>146925.500</td>\n",
       "      <td>254362100.0</td>\n",
       "    </tr>\n",
       "  </tbody>\n",
       "</table>\n",
       "</div>"
      ],
      "text/plain": [
       "                    count           mean            std  min       25%  \\\n",
       "gallons_clean   1100129.0      12.797430      74.482791  0.0      8.99   \n",
       "miles_clean      146157.0     342.632296    1915.392554  0.1    225.50   \n",
       "odometer_clean  1025263.0  104001.086158  340597.635009  0.0  45924.00   \n",
       "\n",
       "                      50%         75%          max  \n",
       "gallons_clean      11.954      14.939      28380.0  \n",
       "miles_clean       291.600     367.000     195321.2  \n",
       "odometer_clean  91888.000  146925.500  254362100.0  "
      ]
     },
     "execution_count": 20,
     "metadata": {},
     "output_type": "execute_result"
    }
   ],
   "source": [
    "def clean_to_float(series):\n",
    "    \"\"\"\n",
    "    Convert string series with commas as thousand separators into floats.\n",
    "    Invalid parsing results in NaN.\n",
    "    \"\"\"\n",
    "    if series.dtype == object or pd.api.types.is_string_dtype(series):\n",
    "        return pd.to_numeric(series.str.replace(\",\", \"\", regex=False), errors=\"coerce\")\n",
    "    else:\n",
    "        return pd.to_numeric(series, errors=\"coerce\")\n",
    "\n",
    "df['gallons_clean'] = clean_to_float(df['gallons'])\n",
    "df['miles_clean'] = clean_to_float(df['miles'])\n",
    "df['odometer_clean'] = clean_to_float(df['odometer'])\n",
    "\n",
    "# Check some summary statistics to confirm successful conversion\n",
    "df[['gallons_clean', 'miles_clean', 'odometer_clean']].describe().T"
   ]
  },
  {
   "cell_type": "code",
   "execution_count": 36,
   "id": "3055b7e1",
   "metadata": {},
   "outputs": [
    {
     "data": {
      "text/html": [
       "<div>\n",
       "<style scoped>\n",
       "    .dataframe tbody tr th:only-of-type {\n",
       "        vertical-align: middle;\n",
       "    }\n",
       "\n",
       "    .dataframe tbody tr th {\n",
       "        vertical-align: top;\n",
       "    }\n",
       "\n",
       "    .dataframe thead th {\n",
       "        text-align: right;\n",
       "    }\n",
       "</style>\n",
       "<table border=\"1\" class=\"dataframe\">\n",
       "  <thead>\n",
       "    <tr style=\"text-align: right;\">\n",
       "      <th></th>\n",
       "      <th>gallons_clean</th>\n",
       "      <th>miles_clean</th>\n",
       "      <th>odometer_clean</th>\n",
       "    </tr>\n",
       "  </thead>\n",
       "  <tbody>\n",
       "    <tr>\n",
       "      <th>150534</th>\n",
       "      <td>7.843</td>\n",
       "      <td>NaN</td>\n",
       "      <td>132898.0</td>\n",
       "    </tr>\n",
       "    <tr>\n",
       "      <th>1136282</th>\n",
       "      <td>10.000</td>\n",
       "      <td>180.0</td>\n",
       "      <td>NaN</td>\n",
       "    </tr>\n",
       "    <tr>\n",
       "      <th>629193</th>\n",
       "      <td>6.678</td>\n",
       "      <td>NaN</td>\n",
       "      <td>80806.0</td>\n",
       "    </tr>\n",
       "    <tr>\n",
       "      <th>510714</th>\n",
       "      <td>8.728</td>\n",
       "      <td>NaN</td>\n",
       "      <td>167526.0</td>\n",
       "    </tr>\n",
       "    <tr>\n",
       "      <th>775089</th>\n",
       "      <td>8.266</td>\n",
       "      <td>NaN</td>\n",
       "      <td>42685.0</td>\n",
       "    </tr>\n",
       "    <tr>\n",
       "      <th>545838</th>\n",
       "      <td>8.998</td>\n",
       "      <td>NaN</td>\n",
       "      <td>32496.0</td>\n",
       "    </tr>\n",
       "    <tr>\n",
       "      <th>205335</th>\n",
       "      <td>14.207</td>\n",
       "      <td>NaN</td>\n",
       "      <td>63530.0</td>\n",
       "    </tr>\n",
       "    <tr>\n",
       "      <th>1107084</th>\n",
       "      <td>12.356</td>\n",
       "      <td>NaN</td>\n",
       "      <td>133887.0</td>\n",
       "    </tr>\n",
       "    <tr>\n",
       "      <th>797948</th>\n",
       "      <td>4.751</td>\n",
       "      <td>NaN</td>\n",
       "      <td>63372.0</td>\n",
       "    </tr>\n",
       "    <tr>\n",
       "      <th>624190</th>\n",
       "      <td>6.340</td>\n",
       "      <td>NaN</td>\n",
       "      <td>16808.0</td>\n",
       "    </tr>\n",
       "    <tr>\n",
       "      <th>160123</th>\n",
       "      <td>12.031</td>\n",
       "      <td>NaN</td>\n",
       "      <td>92902.0</td>\n",
       "    </tr>\n",
       "    <tr>\n",
       "      <th>511487</th>\n",
       "      <td>16.300</td>\n",
       "      <td>249.0</td>\n",
       "      <td>NaN</td>\n",
       "    </tr>\n",
       "    <tr>\n",
       "      <th>593354</th>\n",
       "      <td>14.287</td>\n",
       "      <td>NaN</td>\n",
       "      <td>86997.0</td>\n",
       "    </tr>\n",
       "    <tr>\n",
       "      <th>649896</th>\n",
       "      <td>2.407</td>\n",
       "      <td>68.8</td>\n",
       "      <td>NaN</td>\n",
       "    </tr>\n",
       "    <tr>\n",
       "      <th>518983</th>\n",
       "      <td>16.040</td>\n",
       "      <td>288.5</td>\n",
       "      <td>NaN</td>\n",
       "    </tr>\n",
       "    <tr>\n",
       "      <th>835976</th>\n",
       "      <td>NaN</td>\n",
       "      <td>NaN</td>\n",
       "      <td>42203.0</td>\n",
       "    </tr>\n",
       "    <tr>\n",
       "      <th>530761</th>\n",
       "      <td>4.517</td>\n",
       "      <td>NaN</td>\n",
       "      <td>70698.0</td>\n",
       "    </tr>\n",
       "    <tr>\n",
       "      <th>1145244</th>\n",
       "      <td>20.053</td>\n",
       "      <td>NaN</td>\n",
       "      <td>123348.0</td>\n",
       "    </tr>\n",
       "    <tr>\n",
       "      <th>1094994</th>\n",
       "      <td>9.781</td>\n",
       "      <td>NaN</td>\n",
       "      <td>64823.0</td>\n",
       "    </tr>\n",
       "    <tr>\n",
       "      <th>245735</th>\n",
       "      <td>14.794</td>\n",
       "      <td>NaN</td>\n",
       "      <td>98018.0</td>\n",
       "    </tr>\n",
       "  </tbody>\n",
       "</table>\n",
       "</div>"
      ],
      "text/plain": [
       "         gallons_clean  miles_clean  odometer_clean\n",
       "150534           7.843          NaN        132898.0\n",
       "1136282         10.000        180.0             NaN\n",
       "629193           6.678          NaN         80806.0\n",
       "510714           8.728          NaN        167526.0\n",
       "775089           8.266          NaN         42685.0\n",
       "545838           8.998          NaN         32496.0\n",
       "205335          14.207          NaN         63530.0\n",
       "1107084         12.356          NaN        133887.0\n",
       "797948           4.751          NaN         63372.0\n",
       "624190           6.340          NaN         16808.0\n",
       "160123          12.031          NaN         92902.0\n",
       "511487          16.300        249.0             NaN\n",
       "593354          14.287          NaN         86997.0\n",
       "649896           2.407         68.8             NaN\n",
       "518983          16.040        288.5             NaN\n",
       "835976             NaN          NaN         42203.0\n",
       "530761           4.517          NaN         70698.0\n",
       "1145244         20.053          NaN        123348.0\n",
       "1094994          9.781          NaN         64823.0\n",
       "245735          14.794          NaN         98018.0"
      ]
     },
     "execution_count": 36,
     "metadata": {},
     "output_type": "execute_result"
    }
   ],
   "source": [
    "# Print random samples of the numeric fields to inspect values\n",
    "sample_data = df[['gallons_clean', 'miles_clean', 'odometer_clean']].sample(20, random_state=42)\n",
    "sample_data"
   ]
  },
  {
   "cell_type": "markdown",
   "id": "8ec195ae",
   "metadata": {},
   "source": [
    "## Question 4: Outlier Removal\n",
    "### Q4.1(1) Identify the top 5 currencies by number of transactions"
   ]
  },
  {
   "cell_type": "code",
   "execution_count": 51,
   "id": "c5402f93",
   "metadata": {},
   "outputs": [
    {
     "name": "stdout",
     "output_type": "stream",
     "text": [
      "Top 5 currencies by number of transactions:\n",
      "currency\n",
      "$      741953\n",
      "£       87587\n",
      "€       59273\n",
      "CA$     46848\n",
      "R       36424\n",
      "Name: count, dtype: int64\n"
     ]
    }
   ],
   "source": [
    "def extract_currency(val):\n",
    "    if pd.isna(val):\n",
    "        return None\n",
    "    val = str(val).strip()\n",
    "    # Match leading non-numeric characters (currency symbols/abbreviations)\n",
    "    match = re.match(r\"^([^\\d.,\\s]+)\", val)\n",
    "    return match.group(1) if match else None\n",
    "\n",
    "# Create a currency column from total_spent\n",
    "df['currency'] = df['total_spent'].apply(extract_currency)\n",
    "\n",
    "# Count number of transactions per currency\n",
    "currency_counts = df['currency'].value_counts().head(5)\n",
    "\n",
    "print(\"Top 5 currencies by number of transactions:\")\n",
    "print(currency_counts)"
   ]
  },
  {
   "cell_type": "markdown",
   "id": "ec059880",
   "metadata": {},
   "source": [
    "### Q4.1 (2): Outlier removal for the top 5 currencies."
   ]
  },
  {
   "cell_type": "markdown",
   "id": "084674dd",
   "metadata": {},
   "source": [
    "The dataset gives gallons (because it’s US-based logging). But fuel is normally compared worldwide in litres (e.g., South Africa, Europe). If we want to look at cost of fuel per unit in different currencies, using gallons is misleading because:\n",
    "- A US gallon = 3.785 litres\n",
    "- A UK gallon = 4.546 litres\n",
    "\n",
    "So if we only compared “cost per gallon” between the US and UK, it wouldn’t be fair — UK gallons are ~20% larger. \\\\\n",
    "We will convert everything to litres and then calculating cost per litre, we put all countries on the same standard unit. This way:\n",
    "- A South African paying R22 per litre can be directly compared to an American paying $1.10 per litre.\n",
    "- Outlier detection also becomes easier (because a “reasonable” range for cost per litre can be applied across currencies)."
   ]
  },
  {
   "cell_type": "code",
   "execution_count": null,
   "id": "6a12789c",
   "metadata": {},
   "outputs": [],
   "source": [
    "def extract_numeric(val):\n",
    "    if pd.isna(val):\n",
    "        return None\n",
    "    val = str(val).strip()\n",
    "    # Remove any non-numeric leading currency characters\n",
    "    num = re.sub(r\"^[^\\d.,-]+\", \"\", val)\n",
    "    # Remove commas and convert\n",
    "    try:\n",
    "        return float(num.replace(\",\", \"\"))\n",
    "    except:\n",
    "        return None\n",
    "\n",
    "# Numeric conversions\n",
    "df['total_spent_num'] = df['total_spent'].apply(extract_numeric)\n",
    "df['cost_per_gallon_num'] = df['cost_per_gallon'].apply(extract_numeric)\n",
    "\n",
    "# Convert gallons (also done as gallons_clean)\n",
    "df['gallons_num'] = pd.to_numeric(df['gallons'].str.replace(\",\", \"\", regex=False), errors='coerce')\n",
    "\n",
    "# Derived features\n",
    "df['litres'] = df['gallons_num'] * 3.78541  # US gallon to litres\n",
    "df['cost_per_litre'] = df['total_spent_num'] / df['litres']\n"
   ]
  },
  {
   "cell_type": "markdown",
   "id": "d52cf943",
   "metadata": {},
   "source": [
    "The Thresholds are chosen to balance real-world fuel economics and data-entry mistakes in our dataset.\n",
    "1. Gallons & Litres: A typical passenger car fuel tank is 10–20 gallons (≈ 40–75 litres). Even large trucks rarely exceed 50 gallons in one fill-up. So we set:\n",
    "   - Gallons: 1 ≤ gallons ≤ 50\n",
    "   - Litres: 20 ≤ litres ≤ 200\n",
    "   - entries like 2000 gallons, those are almost certainly typos or users logging incorrectly.\n",
    "\n",
    "From recent data: https://www.globalpetrolprices.com/gasoline_prices/#hl97 \\\\\n",
    "(25-Aug-2025, in USD per litre):\n",
    "- US (USD): 0.926 $/L\n",
    "- South Africa (ZAR): 1.201 $/L\n",
    "- UK (GBP): 1.801 $/L\n",
    "- Canada (CAD): 1.173 $/L\n",
    "\n",
    "2. Cost per Litre (currency-specific): This varies across countries and currencies, so we define realistic ranges:\n",
    "    - USD ($): Historically ranges $0.5–$1.5 per litre, but extreme cases up to $3. We allow 0.2–4 to keep safe margin.\n",
    "    - GBP (£): UK prices are higher: usually £1–£2 per litre. We allow 0.5–3.\n",
    "    - EUR (€): Similar to UK, typically €1–€2 per litre. Range: 0.2–3.\n",
    "    - CAD (CA$): Canada has fuel around CA$1–2 per litre.Range: 0.5–3.\n",
    "    - ZAR (R): In South Africa, petrol is R20–R30 per litre in recent years. To cover old data (cheaper years) and spikes, we allow 5–40.\n",
    "\n",
    "If a South African user’s record shows R500 for 10 litres → R50/litre, that’s way too high, so we mark it as an outlier. Similarly, if a US record shows $0.01/litre, it’s unrealistic, maybe a misplaced decimal."
   ]
  },
  {
   "cell_type": "code",
   "execution_count": 57,
   "id": "bd71883a",
   "metadata": {},
   "outputs": [
    {
     "data": {
      "text/plain": [
       "(currency\n",
       " $      77469\n",
       " CA$     3946\n",
       " R       4541\n",
       " £      10868\n",
       " €       9592\n",
       " Name: reasonable, dtype: int64,\n",
       " currency\n",
       " $      664484\n",
       " CA$     42902\n",
       " R       31883\n",
       " £       76719\n",
       " €       49681\n",
       " Name: reasonable, dtype: int64)"
      ]
     },
     "execution_count": 57,
     "metadata": {},
     "output_type": "execute_result"
    }
   ],
   "source": [
    "# Define thresholds by currency\n",
    "thresholds = {\n",
    "    '$':    {'cpl_min': 0.2, 'cpl_max': 4},\n",
    "    '£':    {'cpl_min': 0.5, 'cpl_max': 3},\n",
    "    '€':    {'cpl_min': 0.5, 'cpl_max': 3},\n",
    "    'CA$':  {'cpl_min': 0.5, 'cpl_max': 3},\n",
    "    'R':    {'cpl_min': 5,   'cpl_max': 40},\n",
    "}\n",
    "\n",
    "def is_reasonable(row):\n",
    "    cur = row['currency']\n",
    "    if cur not in thresholds:\n",
    "        return True  # keep non-top5\n",
    "    th = thresholds[cur]\n",
    "    if pd.isna(row['litres']) or pd.isna(row['cost_per_litre']):\n",
    "        return False\n",
    "    if row['gallons_num'] < 1 or row['gallons_num'] > 50:\n",
    "        return False\n",
    "    if row['litres'] < 20 or row['litres'] > 200:\n",
    "        return False\n",
    "    if row['cost_per_litre'] < th['cpl_min'] or row['cost_per_litre'] > th['cpl_max']:\n",
    "        return False\n",
    "    return True\n",
    "\n",
    "# Apply filter\n",
    "df['reasonable'] = df.apply(is_reasonable, axis=1)\n",
    "\n",
    "# Count removals\n",
    "removed_counts = df.loc[df['currency'].isin(thresholds.keys())].groupby('currency')['reasonable'].apply(lambda x: (~x).sum())\n",
    "kept_counts = df.loc[df['currency'].isin(thresholds.keys())].groupby('currency')['reasonable'].sum()\n",
    "\n",
    "removed_counts, kept_counts"
   ]
  },
  {
   "cell_type": "markdown",
   "id": "25c05d34",
   "metadata": {},
   "source": [
    "### 4.1 (3) How many values have been removed after accounting for outliers?"
   ]
  },
  {
   "cell_type": "code",
   "execution_count": 58,
   "id": "4af05983",
   "metadata": {},
   "outputs": [
    {
     "data": {
      "text/html": [
       "<div>\n",
       "<style scoped>\n",
       "    .dataframe tbody tr th:only-of-type {\n",
       "        vertical-align: middle;\n",
       "    }\n",
       "\n",
       "    .dataframe tbody tr th {\n",
       "        vertical-align: top;\n",
       "    }\n",
       "\n",
       "    .dataframe thead th {\n",
       "        text-align: right;\n",
       "    }\n",
       "</style>\n",
       "<table border=\"1\" class=\"dataframe\">\n",
       "  <thead>\n",
       "    <tr style=\"text-align: right;\">\n",
       "      <th></th>\n",
       "      <th>Total Transactions</th>\n",
       "      <th>Removed</th>\n",
       "      <th>Kept</th>\n",
       "      <th>Removed %</th>\n",
       "    </tr>\n",
       "    <tr>\n",
       "      <th>currency</th>\n",
       "      <th></th>\n",
       "      <th></th>\n",
       "      <th></th>\n",
       "      <th></th>\n",
       "    </tr>\n",
       "  </thead>\n",
       "  <tbody>\n",
       "    <tr>\n",
       "      <th>$</th>\n",
       "      <td>-741953</td>\n",
       "      <td>-1406437</td>\n",
       "      <td>664484</td>\n",
       "      <td>189.558773</td>\n",
       "    </tr>\n",
       "    <tr>\n",
       "      <th>CA$</th>\n",
       "      <td>-46848</td>\n",
       "      <td>-89750</td>\n",
       "      <td>42902</td>\n",
       "      <td>191.577015</td>\n",
       "    </tr>\n",
       "    <tr>\n",
       "      <th>R</th>\n",
       "      <td>-36424</td>\n",
       "      <td>-68307</td>\n",
       "      <td>31883</td>\n",
       "      <td>187.532945</td>\n",
       "    </tr>\n",
       "    <tr>\n",
       "      <th>£</th>\n",
       "      <td>-87587</td>\n",
       "      <td>-164306</td>\n",
       "      <td>76719</td>\n",
       "      <td>187.591766</td>\n",
       "    </tr>\n",
       "    <tr>\n",
       "      <th>€</th>\n",
       "      <td>-59273</td>\n",
       "      <td>-108954</td>\n",
       "      <td>49681</td>\n",
       "      <td>183.817252</td>\n",
       "    </tr>\n",
       "  </tbody>\n",
       "</table>\n",
       "</div>"
      ],
      "text/plain": [
       "         Total Transactions  Removed    Kept   Removed %\n",
       "currency                                                \n",
       "$                   -741953 -1406437  664484  189.558773\n",
       "CA$                  -46848   -89750   42902  191.577015\n",
       "R                    -36424   -68307   31883  187.532945\n",
       "£                    -87587  -164306   76719  187.591766\n",
       "€                    -59273  -108954   49681  183.817252"
      ]
     },
     "execution_count": 58,
     "metadata": {},
     "output_type": "execute_result"
    }
   ],
   "source": [
    "# Vectorized filtering instead of apply\n",
    "top5 = ['$', '£', '€', 'CA$', 'R']\n",
    "mask = df['currency'].isin(top5)\n",
    "\n",
    "reasonable = pd.Series(True, index=df.index)\n",
    "\n",
    "# Gallons and litres constraints\n",
    "reasonable &= ~mask | ((df['gallons_num'] >= 1) & (df['gallons_num'] <= 50))\n",
    "reasonable &= ~mask | ((df['litres'] >= 20) & (df['litres'] <= 200))\n",
    "\n",
    "# Cost per litre constraints (per currency)\n",
    "for cur, th in thresholds.items():\n",
    "    cur_mask = df['currency'] == cur\n",
    "    reasonable[cur_mask] &= df.loc[cur_mask, 'cost_per_litre'].between(th['cpl_min'], th['cpl_max'], inclusive=\"both\")\n",
    "\n",
    "df['reasonable'] = reasonable\n",
    "\n",
    "# Counts\n",
    "removed_counts = df.loc[mask].groupby('currency')['reasonable'].apply(lambda x: (~x).sum())\n",
    "kept_counts = df.loc[mask].groupby('currency')['reasonable'].sum()\n",
    "total_counts = removed_counts + kept_counts\n",
    "removed_pct = (removed_counts / total_counts * 100).round(2)\n",
    "\n",
    "summary = pd.DataFrame({\n",
    "    \"Total Transactions\": total_counts,\n",
    "    \"Removed\": removed_counts,\n",
    "    \"Kept\": kept_counts,\n",
    "    \"Removed %\": removed_pct\n",
    "})\n",
    "\n",
    "summary"
   ]
  }
 ],
 "metadata": {
  "kernelspec": {
   "display_name": "Python 3",
   "language": "python",
   "name": "python3"
  },
  "language_info": {
   "codemirror_mode": {
    "name": "ipython",
    "version": 3
   },
   "file_extension": ".py",
   "mimetype": "text/x-python",
   "name": "python",
   "nbconvert_exporter": "python",
   "pygments_lexer": "ipython3",
   "version": "3.10.12"
  }
 },
 "nbformat": 4,
 "nbformat_minor": 5
}
